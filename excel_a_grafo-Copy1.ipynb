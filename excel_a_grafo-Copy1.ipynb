{
 "cells": [
  {
   "cell_type": "code",
   "execution_count": 33,
   "id": "d4d2e1ab",
   "metadata": {},
   "outputs": [],
   "source": [
    "import pandas as pd\n",
    "from rdflib import Graph, URIRef, Literal, RDF, RDFS, Namespace\n",
    "from urllib.parse import quote\n",
    "from rdflib.plugins.sparql import prepareQuery"
   ]
  },
  {
   "cell_type": "markdown",
   "id": "bd8211ab",
   "metadata": {},
   "source": [
    "## Cargar excel al grafo"
   ]
  },
  {
   "cell_type": "code",
   "execution_count": 34,
   "id": "2b0c504c",
   "metadata": {},
   "outputs": [],
   "source": [
    "dfcert = pd.read_excel('tramites/certificadosnormsinespaciocertlisto.xlsx')\n",
    "dfdoc = pd.read_excel('tramites/certificadosnormsinespaciodoclisto.xlsx')"
   ]
  },
  {
   "cell_type": "code",
   "execution_count": 72,
   "id": "568e39a7",
   "metadata": {},
   "outputs": [],
   "source": [
    "# Crear el grafo y el espacio de nombres\n",
    "g = Graph()\n",
    "ex = Namespace(\"http://example.org/\")\n",
    "\n",
    "# Diccionario para realizar un seguimiento de las instituciones\n",
    "Ministerios = {}\n",
    "Ministerios_uri = {}\n",
    "Tramitesdic = {}\n",
    "# Iterar sobre el DataFrame y agregar ministerio, instituciones y tramites con documentos\n",
    "for _, row in dfcert.iterrows():\n",
    "    tramite_nombre = row['Nombre del trámite']\n",
    "    tramite_uri = Tramitesdic.get(tramite_nombre)\n",
    "    if not tramite_uri:\n",
    "        Ministerio_nombre = row['Ministerio']\n",
    "        Ministerio_uri = Ministerios_uri.get(Ministerio_nombre)\n",
    "        # Si el ministerio no existe en el diccionario, crear el nodo\n",
    "        if not Ministerio_uri:\n",
    "            Ministerio_uri = ex[quote(Ministerio_nombre.replace(\" \", \"_\"))]\n",
    "            g.add((Ministerio_uri, RDF.type, ex.Ministerio))\n",
    "            Ministerios_uri[Ministerio_nombre] = Ministerio_uri\n",
    "            Ministerios[Ministerio_nombre]={}\n",
    "        institucion_nombre = row['Institución']\n",
    "        institucion_uri = Ministerios[Ministerio_nombre].get(institucion_nombre)\n",
    "        # Si la institución no existe en el diccionario, crear el nodo\n",
    "        if not institucion_uri:\n",
    "            institucion_uri = ex[quote(institucion_nombre.replace(\" \", \"_\"))]\n",
    "            g.add((institucion_uri, RDF.type, ex.Institucion))\n",
    "            g.add((Ministerio_uri, ex.tieneInstitucion, institucion_uri))\n",
    "            Ministerios[Ministerio_nombre][institucion_nombre] = institucion_uri        \n",
    "        # Crear el nodo para el tramite y conectarlo a la institución\n",
    "        tramite_nombre = row['Nombre del trámite']\n",
    "        tramite_uri = ex[quote(tramite_nombre.replace(\" \", \"_\"))]\n",
    "        g.add((tramite_uri, RDF.type, ex.Tramite))\n",
    "        g.add((institucion_uri, ex.realizaTramite, tramite_uri))\n",
    "        Tramitesdic[tramite_nombre]=tramite_uri\n",
    "    if row['¿Requiere de algún certificado?'] == 'Sí':\n",
    "        # Crear nodos para cada documento y conectarlos al tramite\n",
    "        certificado_nombre = row['Detalle certificados']\n",
    "        certificado_uri = ex[quote(certificado_nombre.replace(\" \", \"_\"))]\n",
    "        g.add((certificado_uri, RDF.type, ex.certificado))\n",
    "        g.add((tramite_uri, ex.requiereCertificado, certificado_uri))\n",
    "    \n",
    "#-------------------------Requerimientos-----------------\n",
    "#-------Documentos notariales\n",
    "    # Verificar si el tramite requiere documento\n",
    "for _, row in dfdoc.iterrows():\n",
    "    tramite_nombre = row['Nombre del trámite']\n",
    "    tramite_uri = Tramitesdic.get(tramite_nombre)\n",
    "    if row['¿Requiere de un documento notarial?'] == 'Sí':\n",
    "        documento_nombre = row['Detalle documentos']\n",
    "        documento_uri = ex[quote(documento_nombre.replace(\" \",\"_\"))]\n",
    "        g.add((documento_uri, RDF.type, ex.Documento))\n",
    "        g.add((tramite_uri, ex.requiereDocumento, documento_uri))"
   ]
  },
  {
   "cell_type": "markdown",
   "id": "9faa1267",
   "metadata": {},
   "source": [
    "# Consultas"
   ]
  },
  {
   "cell_type": "markdown",
   "id": "733a1719",
   "metadata": {},
   "source": [
    "### tramites en cierto ministerio"
   ]
  },
  {
   "cell_type": "code",
   "execution_count": 4,
   "id": "29c115d6",
   "metadata": {},
   "outputs": [
    {
     "name": "stdout",
     "output_type": "stream",
     "text": [
      "Instituciones asociadas al Ministerio de Salud:\n",
      "http://example.org/Sistema_Integrado_de_Atenci%C3%B3n_Ciudadana_%28SIAC%29_del_Consejo_Nacional_de_Televisi%C3%B3n_%28CNTV%29.\n",
      "http://example.org/Recepci%C3%B3n_de_denuncias_sobre_programas_exhibidos_en_televisi%C3%B3n\n",
      "http://example.org/Fondo_CNTV\n",
      "http://example.org/Postulaci%C3%B3n_a_Concesiones_de_Televisi%C3%B3n_Digital_de_Libre_Recepci%C3%B3n\n",
      "http://example.org/Solicitud_de_Acceso_a_la_Informaci%C3%B3n_P%C3%BAblica_%28Ley_20.285%29\n",
      "http://example.org/Solicitud_de_Audiencia_%28Ley_20.730%29\n",
      "http://example.org/Sistema_Integral_de_Atenci%C3%B3n_Ciudadana\n",
      "http://example.org/Postulaci%C3%B3n_al_fondo_de_fortalecimiento_de_las_organizaciones_de_inter%C3%A9s_p%C3%BAblico\n",
      "http://example.org/Postulaci%C3%B3n_al_fondo_al_fomento_de_medios_de_comunicaci%C3%B3n\n",
      "http://example.org/Solicitud_de_Inscripci%C3%B3n_al_Catastro_de_Organizaciones_de_Inter%C3%A9s_P%C3%BAblico\n",
      "http://example.org/Solicitud_de_Certificado_de_Organizaci%C3%B3n_Comunitaria\n",
      "http://example.org/Solicitud_de_Acceso_a_la_Informaci%C3%B3n_P%C3%BAblica_%28Ley_20.285%29\n",
      "http://example.org/Solicitud_de_Audiencia_%28Ley_20.730%29\n",
      "13\n"
     ]
    }
   ],
   "source": [
    "query_instituciones_salud = \"\"\"\n",
    "    PREFIX ex: <http://example.org/>\n",
    "    SELECT ?tramite\n",
    "    WHERE {\n",
    "        ?ministerio rdf:type ex:Ministerio.\n",
    "        ?ministerio ex:tieneInstitucion ?institucion.\n",
    "        ?institucion rdf:type ex:Institucion.\n",
    "        ?institucion ex:realizaTramite ?tramite.\n",
    "        FILTER (?ministerio = ex:Ministerio_Secretaria_General_de_Gobierno)\n",
    "\n",
    "    }\n",
    "\"\"\"\n",
    "\n",
    "# Preparar la consulta\n",
    "query_instituciones_salud = prepareQuery(query_instituciones_salud, initNs={\"rdf\": RDF, \"ex\": ex})\n",
    "\n",
    "# Ejecutar la consulta en el grafo RDF\n",
    "result_instituciones_salud = g.query(query_instituciones_salud)\n",
    "\n",
    "# Imprimir los resultados\n",
    "print(\"Instituciones asociadas al Ministerio de Salud:\")\n",
    "j=0\n",
    "for row in result_instituciones_salud:\n",
    "    j+=1\n",
    "    print(row.tramite)\n",
    "print(j)\n"
   ]
  },
  {
   "cell_type": "markdown",
   "id": "16822040",
   "metadata": {},
   "source": [
    "### Ministerios"
   ]
  },
  {
   "cell_type": "code",
   "execution_count": 5,
   "id": "31ae04c0",
   "metadata": {},
   "outputs": [
    {
     "name": "stdout",
     "output_type": "stream",
     "text": [
      "Instituciones asociadas al Ministerio de Salud:\n",
      "http://example.org/Ministerio_de_Transportes_y_Telecomunicaciones\n",
      "http://example.org/Ministerio_de_Hacienda\n",
      "http://example.org/Ministerio_de_las_Culturas%2C_las_Artes_y_el_Patrimonio\n",
      "http://example.org/Consejo_de_Defensa_del_Estado\n",
      "http://example.org/Ministerio_de_Desarrollo_Social_y_Familia\n",
      "http://example.org/Ministerio_de_Agricultura\n",
      "http://example.org/Ministerio_de_Econom%C3%ADa%2C_Fomento_y_Turismo\n",
      "http://example.org/Ministerio_de_Defensa_Nacional\n",
      "http://example.org/Ministerio_de_Obras_P%C3%BAblicas\n",
      "http://example.org/Ministerio_del_Trabajo_y_Previsi%C3%B3n_Social\n",
      "http://example.org/Ministerio_de_Justicia_y_Derechos_Humanos\n",
      "http://example.org/Ministerio_de_Relaciones_Exteriores\n",
      "http://example.org/Ministerio_del_Deporte\n",
      "http://example.org/Ministerio_de_Salud\n",
      "http://example.org/Ministerio_de_Educaci%C3%B3n\n",
      "http://example.org/Ministerio_de_Energ%C3%ADa\n",
      "http://example.org/Ministerio_del_Medio_Ambiente\n",
      "http://example.org/Ministerio_de_Miner%C3%ADa\n",
      "http://example.org/Ministerio_de_la_Mujer_y_la_Equidad_de_G%C3%A9nero\n",
      "http://example.org/Ministerio_del_Interior_y_Seguridad_P%C3%BAblica\n",
      "http://example.org/Ministerio_de_Bienes_Nacionales\n",
      "http://example.org/Ministerio_de_Vivienda_y_Urbanismo\n",
      "http://example.org/Ministerio_de_Ciencia%2C_Tecnolog%C3%ADa%2C_Conocimiento_e_Innovaci%C3%B3n\n",
      "http://example.org/Ministerio_Secretaria_General_de_Gobierno\n",
      "http://example.org/Servicio_Electoral\n",
      "http://example.org/Conservador_de_Bienes_Ra%C3%ADces\n",
      "http://example.org/Ministerio_Secretar%C3%ADa_General_de_la_Presidencia\n",
      "http://example.org/Defensor%C3%ADa_de_los_Derechos_de_la_Ni%C3%B1ez\n",
      "http://example.org/Contralor%C3%ADa_General_de_la_Rep%C3%BAblica\n",
      "http://example.org/Presidencia_de_la_Rep%C3%BAblica\n",
      "http://example.org/Consejo_para_la_Transparencia\n"
     ]
    }
   ],
   "source": [
    "query_instituciones_salud = \"\"\"\n",
    "    SELECT DISTINCT ?ministerio\n",
    "    WHERE {\n",
    "        ?ministerio rdf:type ex:Ministerio ;\n",
    "\n",
    "    }\n",
    "\"\"\"\n",
    "# Preparar la consulta\n",
    "query_instituciones_salud = prepareQuery(query_instituciones_salud, initNs={\"rdf\": RDF, \"ex\": ex})\n",
    "\n",
    "# Ejecutar la consulta en el grafo RDF\n",
    "result_instituciones_salud = g.query(query_instituciones_salud)\n",
    "\n",
    "# Imprimir los resultados\n",
    "print(\"Instituciones asociadas al Ministerio de Salud:\")\n",
    "for row in result_instituciones_salud:\n",
    "    print(row.ministerio)\n"
   ]
  },
  {
   "cell_type": "markdown",
   "id": "0dee6013",
   "metadata": {},
   "source": [
    "### Instituciones asociadas a algún ministerio"
   ]
  },
  {
   "cell_type": "code",
   "execution_count": 6,
   "id": "0d6a7791",
   "metadata": {},
   "outputs": [
    {
     "name": "stdout",
     "output_type": "stream",
     "text": [
      "Instituciones asociadas al Ministerio de Hacienda:\n",
      "http://example.org/Servicio_Nacional_de_Aduanas\n",
      "http://example.org/Direcci%C3%B3n_de_Compras_y_Contrataci%C3%B3n_P%C3%BAblica\n",
      "http://example.org/Comisi%C3%B3n_para_el_Mercado_Financiero\n",
      "http://example.org/Subsecretar%C3%ADa_de_Hacienda\n",
      "http://example.org/Tesorer%C3%ADa_General_de_La_Rep%C3%BAblica\n",
      "http://example.org/Superintendencia_de_Casinos_de_Juego\n",
      "http://example.org/Direcci%C3%B3n_Nacional_del_Servicio_Civil\n",
      "http://example.org/Unidad_de_An%C3%A1lisis_Financiero\n",
      "http://example.org/Servicio_de_Impuestos_Internos\n",
      "http://example.org/Unidad_Administradora_de_los_Tribunales_Tributarios_y_Aduaneros\n",
      "http://example.org/Direcci%C3%B3n_de_Presupuestos\n"
     ]
    }
   ],
   "source": [
    "query_instituciones_salud = \"\"\"\n",
    "    SELECT DISTINCT ?institucion\n",
    "    WHERE {\n",
    "        ?ministerio rdf:type ex:Ministerio ;\n",
    "                    ex:tieneInstitucion ?institucion .\n",
    "        ?institucion rdf:type ex:Institucion .\n",
    "        FILTER (?ministerio = ex:Ministerio_de_Hacienda)\n",
    "    }\n",
    "\"\"\"\n",
    "# Preparar la consulta\n",
    "query_instituciones_salud = prepareQuery(query_instituciones_salud, initNs={\"rdf\": RDF, \"ex\": ex})\n",
    "\n",
    "# Ejecutar la consulta en el grafo RDF\n",
    "result_instituciones_salud = g.query(query_instituciones_salud)\n",
    "\n",
    "# Imprimir los resultados\n",
    "print(\"Instituciones asociadas al Ministerio de Hacienda:\")\n",
    "for row in result_instituciones_salud:\n",
    "    print(row.institucion) "
   ]
  },
  {
   "cell_type": "markdown",
   "id": "d94845e4",
   "metadata": {},
   "source": [
    "### Contar instuciones por ministerio"
   ]
  },
  {
   "cell_type": "code",
   "execution_count": 7,
   "id": "dc7346cb",
   "metadata": {},
   "outputs": [
    {
     "name": "stdout",
     "output_type": "stream",
     "text": [
      "Número de instituciones por ministerio:\n",
      "http://example.org/Ministerio_de_Transportes_y_Telecomunicaciones: 3\n",
      "http://example.org/Ministerio_de_Hacienda: 11\n",
      "http://example.org/Ministerio_de_las_Culturas%2C_las_Artes_y_el_Patrimonio: 3\n",
      "http://example.org/Consejo_de_Defensa_del_Estado: 1\n",
      "http://example.org/Ministerio_de_Desarrollo_Social_y_Familia: 8\n",
      "http://example.org/Ministerio_de_Agricultura: 11\n",
      "http://example.org/Ministerio_de_Econom%C3%ADa%2C_Fomento_y_Turismo: 14\n",
      "http://example.org/Ministerio_de_Defensa_Nacional: 14\n",
      "http://example.org/Ministerio_de_Obras_P%C3%BAblicas: 14\n",
      "http://example.org/Ministerio_del_Trabajo_y_Previsi%C3%B3n_Social: 10\n",
      "http://example.org/Ministerio_de_Justicia_y_Derechos_Humanos: 12\n",
      "http://example.org/Ministerio_de_Relaciones_Exteriores: 6\n",
      "http://example.org/Ministerio_del_Deporte: 2\n",
      "http://example.org/Ministerio_de_Salud: 36\n",
      "http://example.org/Ministerio_de_Educaci%C3%B3n: 18\n",
      "http://example.org/Ministerio_de_Energ%C3%ADa: 4\n",
      "http://example.org/Ministerio_del_Medio_Ambiente: 3\n",
      "http://example.org/Ministerio_de_Miner%C3%ADa: 3\n",
      "http://example.org/Ministerio_de_la_Mujer_y_la_Equidad_de_G%C3%A9nero: 2\n",
      "http://example.org/Ministerio_del_Interior_y_Seguridad_P%C3%BAblica: 27\n",
      "http://example.org/Ministerio_de_Bienes_Nacionales: 1\n",
      "http://example.org/Ministerio_de_Vivienda_y_Urbanismo: 2\n",
      "http://example.org/Ministerio_de_Ciencia%2C_Tecnolog%C3%ADa%2C_Conocimiento_e_Innovaci%C3%B3n: 2\n",
      "http://example.org/Ministerio_Secretaria_General_de_Gobierno: 2\n",
      "http://example.org/Servicio_Electoral: 1\n",
      "http://example.org/Conservador_de_Bienes_Ra%C3%ADces: 1\n",
      "http://example.org/Ministerio_Secretar%C3%ADa_General_de_la_Presidencia: 2\n",
      "http://example.org/Defensor%C3%ADa_de_los_Derechos_de_la_Ni%C3%B1ez: 1\n",
      "http://example.org/Contralor%C3%ADa_General_de_la_Rep%C3%BAblica: 1\n",
      "http://example.org/Presidencia_de_la_Rep%C3%BAblica: 1\n",
      "http://example.org/Consejo_para_la_Transparencia: 1\n"
     ]
    }
   ],
   "source": [
    "from rdflib import Graph, Namespace, RDF, URIRef, Literal\n",
    "from urllib.parse import quote\n",
    "# Consulta SPARQL para contar instituciones por ministerio\n",
    "query_contar_instituciones_por_ministerio = \"\"\"\n",
    "    PREFIX ex: <http://example.org/>\n",
    "\n",
    "    SELECT ?ministerio (COUNT( ?institucion) AS ?count)\n",
    "    WHERE {\n",
    "        ?ministerio rdf:type ex:Ministerio.\n",
    "        ?ministerio ex:tieneInstitucion ?institucion.\n",
    "    }\n",
    "    GROUP BY ?ministerio\n",
    "\"\"\"\n",
    "# Ejecutar la consulta en el grafo RDF\n",
    "result_contar_instituciones_por_ministerio = g.query(query_contar_instituciones_por_ministerio)\n",
    "\n",
    "# Imprimir los resultados\n",
    "print(\"Número de instituciones por ministerio:\")\n",
    "for row in result_contar_instituciones_por_ministerio:\n",
    "    ministerio = row[\"ministerio\"]\n",
    "    cantidad_instituciones = row[\"count\"]\n",
    "    print(f\"{ministerio}: {cantidad_instituciones}\")"
   ]
  },
  {
   "cell_type": "markdown",
   "id": "89e7c11b",
   "metadata": {},
   "source": [
    "### Contar tramites por ministerio"
   ]
  },
  {
   "cell_type": "code",
   "execution_count": 8,
   "id": "dfdcb85b",
   "metadata": {},
   "outputs": [
    {
     "name": "stdout",
     "output_type": "stream",
     "text": [
      "Número de tramites por ministerio:\n",
      "http://example.org/Ministerio_de_Transportes_y_Telecomunicaciones: 175\n",
      "http://example.org/Ministerio_de_Hacienda: 426\n",
      "http://example.org/Ministerio_de_las_Culturas%2C_las_Artes_y_el_Patrimonio: 156\n",
      "http://example.org/Consejo_de_Defensa_del_Estado: 4\n",
      "http://example.org/Ministerio_de_Desarrollo_Social_y_Familia: 111\n",
      "http://example.org/Ministerio_de_Agricultura: 176\n",
      "http://example.org/Ministerio_de_Econom%C3%ADa%2C_Fomento_y_Turismo: 324\n",
      "http://example.org/Ministerio_de_Defensa_Nacional: 374\n",
      "http://example.org/Ministerio_de_Obras_P%C3%BAblicas: 84\n",
      "http://example.org/Ministerio_del_Trabajo_y_Previsi%C3%B3n_Social: 239\n",
      "http://example.org/Ministerio_de_Justicia_y_Derechos_Humanos: 158\n",
      "http://example.org/Ministerio_de_Relaciones_Exteriores: 47\n",
      "http://example.org/Ministerio_del_Deporte: 19\n",
      "http://example.org/Ministerio_de_Salud: 525\n",
      "http://example.org/Ministerio_de_Educaci%C3%B3n: 146\n",
      "http://example.org/Ministerio_de_Energ%C3%ADa: 86\n",
      "http://example.org/Ministerio_del_Medio_Ambiente: 66\n",
      "http://example.org/Ministerio_de_Miner%C3%ADa: 41\n",
      "http://example.org/Ministerio_de_la_Mujer_y_la_Equidad_de_G%C3%A9nero: 21\n",
      "http://example.org/Ministerio_del_Interior_y_Seguridad_P%C3%BAblica: 303\n",
      "http://example.org/Ministerio_de_Bienes_Nacionales: 29\n",
      "http://example.org/Ministerio_de_Vivienda_y_Urbanismo: 42\n",
      "http://example.org/Ministerio_de_Ciencia%2C_Tecnolog%C3%ADa%2C_Conocimiento_e_Innovaci%C3%B3n: 42\n",
      "http://example.org/Ministerio_Secretaria_General_de_Gobierno: 13\n",
      "http://example.org/Servicio_Electoral: 20\n",
      "http://example.org/Conservador_de_Bienes_Ra%C3%ADces: 31\n",
      "http://example.org/Ministerio_Secretar%C3%ADa_General_de_la_Presidencia: 11\n",
      "http://example.org/Defensor%C3%ADa_de_los_Derechos_de_la_Ni%C3%B1ez: 2\n",
      "http://example.org/Contralor%C3%ADa_General_de_la_Rep%C3%BAblica: 8\n",
      "http://example.org/Presidencia_de_la_Rep%C3%BAblica: 2\n",
      "http://example.org/Consejo_para_la_Transparencia: 2\n"
     ]
    }
   ],
   "source": [
    "from rdflib import Graph, Namespace, RDF, URIRef, Literal\n",
    "from urllib.parse import quote\n",
    "\n",
    "# Consulta SPARQL para contar instituciones por ministerio\n",
    "query_contar_instituciones_por_ministerio = \"\"\"\n",
    "    PREFIX ex: <http://example.org/>\n",
    "\n",
    "    SELECT ?ministerio (COUNT( ?tramite) AS ?count)\n",
    "    WHERE {\n",
    "        ?ministerio rdf:type ex:Ministerio.\n",
    "        ?ministerio ex:tieneInstitucion ?institucion.\n",
    "        ?institucion rdf:type ex:Institucion.\n",
    "        ?institucion ex:realizaTramite ?tramite.\n",
    "      \n",
    "    }\n",
    "    GROUP BY ?ministerio\n",
    "\"\"\"\n",
    "# Ejecutar la consulta en el grafo RDF\n",
    "result_contar_instituciones_por_ministerio = g.query(query_contar_instituciones_por_ministerio)\n",
    "\n",
    "# Imprimir los resultados\n",
    "print(\"Número de tramites por ministerio:\")\n",
    "for row in result_contar_instituciones_por_ministerio:\n",
    "    ministerio = row[\"ministerio\"]\n",
    "    cantidad_instituciones = row[\"count\"]\n",
    "    print(f\"{ministerio}: {cantidad_instituciones}\")"
   ]
  },
  {
   "cell_type": "markdown",
   "id": "bf346201",
   "metadata": {},
   "source": [
    "### Requisitos por ministerio"
   ]
  },
  {
   "cell_type": "code",
   "execution_count": 25,
   "id": "eac7ed8e",
   "metadata": {
    "scrolled": false
   },
   "outputs": [
    {
     "name": "stdout",
     "output_type": "stream",
     "text": [
      "Tiempo de ejecución: 0.642315149307251 segundos\n"
     ]
    }
   ],
   "source": [
    "from rdflib import Graph, Literal, URIRef\n",
    "from rdflib.namespace import RDF, XSD\n",
    "\n",
    "# Ejecutar la consulta SPARQL\n",
    "query = \"\"\"\n",
    "PREFIX ex: <http://example.org/>\n",
    "\n",
    "SELECT ?ministerio (COUNT(DISTINCT ?documento) AS ?countDocumentos) (COUNT(DISTINCT?certificado) AS ?countCertificados) (COUNT(DISTINCT ?documento) + COUNT(DISTINCT ?certificado) AS ?suma)\n",
    "WHERE {\n",
    "    ?ministerio rdf:type ex:Ministerio.\n",
    "    ?ministerio ex:tieneInstitucion ?institucion.\n",
    "    ?institucion rdf:type ex:Institucion.\n",
    "    ?institucion ex:realizaTramite ?tramite.\n",
    "\n",
    "    OPTIONAL {\n",
    "        ?tramite ex:requiereDocumento ?documento.\n",
    "    }\n",
    "\n",
    "    OPTIONAL {\n",
    "        ?tramite ex:requiereCertificado ?certificado.\n",
    "    }\n",
    "}\n",
    "GROUP BY ?ministerio\n",
    "ORDER BY DESC(?suma)\n",
    "\"\"\"\n",
    "start_time = time.time()\n",
    "result = g.query(query)\n",
    "# Imprimir resultados\n",
    "for row in result:\n",
    "    ministerio, count_documentos, count_certificados, suma = row\n",
    "    print(f\"Ministerio: {ministerio}, Certificados: {count_certificados},Documentos: {count_documentos}, Suma: {suma}\")\n",
    "end_time = time.time()\n",
    "elapsed_time = end_time - start_time\n",
    "print(\"Tiempo de ejecución:\", elapsed_time, \"segundos\")"
   ]
  },
  {
   "cell_type": "markdown",
   "id": "a3845698",
   "metadata": {},
   "source": [
    "### Requisitos asociados a un ministerio"
   ]
  },
  {
   "cell_type": "code",
   "execution_count": 16,
   "id": "2014a20c",
   "metadata": {},
   "outputs": [
    {
     "name": "stdout",
     "output_type": "stream",
     "text": [
      "requisitos asociadas al Ministerio de Hacienda:\n",
      "http://example.org/Autorizaci%C3%B3n_notarial_de_uso_de_infraestructura\n",
      "http://example.org/Mandato\n",
      "http://example.org/autorizaci%C3%B3n_notarial_de_representante_legal\n",
      "http://example.org/declaraci%C3%B3n_jurada_de_la_duraci%C3%B3n_de_la_sociedad\n",
      "http://example.org/Fotocopia_notarial_de_los_estatutos_de_la_organizaci%C3%B3n_y_sus_modificaciones\n",
      "http://example.org/Si_el_certificado_de_vigencia_no_establece_la_directiva%2C_se_deber%C3%A1_complementar_con_una_declaraci%C3%B3n_notarial_la_directiva%2C_por_el_presidente_o_representante_legal_de_la_organizaci%C3%B3n.\n",
      "http://example.org/poder_de_acreditaci%C3%B3n_de_representaci%C3%B3n_legal_vigente%2C_en_caso_de_personas_jur%C3%ADdicas\n",
      "http://example.org/declaraci%C3%B3n_jurada_de_residencia\n",
      "http://example.org/Declaraci%C3%B3n_jurada_de_origen_y\n",
      "http://example.org/o_informes_de_toxinas_emitidos_por_el_Servicio_de_Salud%2C_seg%C3%BAn_corresponda.\n",
      "http://example.org/Autorizaci%C3%B3n_notarial_en_caso_de_ser_tercero_en_representaci%C3%B3n_del_beneficiario\n",
      "http://example.org/Poder_de_acreditaci%C3%B3n_de_representaci%C3%B3n_legal_vigente_%28en_caso_de_ser_persona_jur%C3%ADdica%29\n",
      "http://example.org/Declaraci%C3%B3n_jurada.\n",
      "http://example.org/Declaraci%C3%B3n_jurada\n",
      "http://example.org/autorizaci%C3%B3n_notarial_si_es_en_representaci%C3%B3n_de_un_tercero\n",
      "http://example.org/Contrato_Privado_o_Escritura_P%C3%BAblica_Notarial%2C_que_manifieste_la_voluntad_expresa_de_ambas_partes%2C_de_uno_de_ser_reemplazado_y_el_otro_reemplazante\n",
      "http://example.org/autorizaci%C3%B3n_de_representaci%C3%B3n\n",
      "http://example.org/Poder_notarial_que_designa_al_beneficiario\n",
      "http://example.org/poder_de_representaci%C3%B3n_en_caso_de_ser_un_tercero\n",
      "http://example.org/Poder_de_representaci%C3%B3n_en_caso_de_ser_un_tercero_qui%C3%A9n_solicita\n",
      "http://example.org/DOCUMENTO_QUE_ACREDITE_LA_DIRECTIVA_DE_LA_ORGANIZACI%C3%93N_%28_NOTARIAL%29%2C_SI_EL_CERTIFICADO_QUE_ACREDITA_LA_PERSONALIDAD_JURIDICA_NO_LO_INDICA.\n",
      "http://example.org/Declaraci%C3%B3n_jurada_ante_notario%2C_de_posesi%C3%B3n_de_restos%2C_partes_o_derivados_de_especies_protegidas%2C_data_anterior_al_11_de_noviembre_de_1995\n",
      "http://example.org/Acta_Junta_General_que_reform%C3%B3_estatutos_reducida_a_escritura_p%C3%BAblica.\n",
      "http://example.org/Inscripci%C3%B3n_en_el_Registro_del_Conservador_de_Bienes_Ra%C3%ADces\n",
      "http://example.org/Acta_Constitutiva_suscrita_ante_ministro_de_fe_y_estatutos\n",
      "http://example.org/Acta_Junta_General_de_socios_Constitutiva_reducida_a_escritura_p%C3%BAblica\n",
      "http://example.org/Extracto_de_publicaci%C3%B3n_Diario_Oficial\n",
      "http://example.org/Extracto_inscrito_en_el_Registro_del_Conservador_de_Bienes_Ra%C3%ADces\n",
      "http://example.org/Acta_Junta_General_que_acord%C3%B3_la_disoluci%C3%B3n_reducida_a_escritura_p%C3%BAblica.\n",
      "http://example.org/Inscripci%C3%B3n_en_el_Registro_de_Conservadores_de_Bienes_Ra%C3%ADces\n",
      "http://example.org/Acreditar_la_personer%C3%ADa_del_representante_legal\n",
      "http://example.org/Copia_autorizada_de_la_escritura_de_constituci%C3%B3n_de_la_sociedad.\n",
      "http://example.org/Copia_autorizada_de_la_inscripci%C3%B3n_social_en_el_Registro_de_Comercio.\n",
      "http://example.org/Declaraci%C3%B3n_jurada_que_los_bienes_muebles_adjuntados_para_acreditar_el_capital_m%C3%ADnimo_exigido%2C_son_de_su_exclusivo_dominio.\n",
      "http://example.org/Acta_Constitutiva_del_Consejo_de_Administraci%C3%B3n%2C_de_acuerdo_a_lo_dispuesto_en_el_art%C3%ADculo_60%2C_del_reglamento_de_la_Ley_General_de_Cooperativas%2C_debidamente_autorizada_ante_Notario\n",
      "http://example.org/Acta_de_la_Junta_General_de_Socios%2C_debidamente_autorizada_ante_Notario\n",
      "http://example.org/Copia_autorizada_ante_notaria_de_la_inscripci%C3%B3n_del_Extracto_en_el_Registro_de_Comercio_del_Conservador_de_Bienes_Ra%C3%ADces_competente%2C_al_margen_de_la_inscripci%C3%B3n_original\n",
      "http://example.org/Copia_autorizada_de_la_Escritura_P%C3%BAblica_en_la_cual_se_contiene_el_acta_de_la_Junta_General_de_Socios_que_aprob%C3%B3_la_fusi%C3%B3n\n",
      "http://example.org/divisi%C3%B3n_o_transformaci%C3%B3n_de_la_Cooperativa\n",
      "http://example.org/Copia_autorizada_del_extracto_de_la_escritura_antes_se%C3%B1alada\n",
      "http://example.org/Requiere_de_manera_obligatoria_la_firma_notarial_para_los_documentos_complementarios.\n",
      "http://example.org/En_el_caso_de_persona_jur%C3%ADdica%2C_se_requiere_copia_legalizada_de_los_estatutos%2C_sus_modificaciones%2C_si_corresponde\n",
      "http://example.org/En_el_caso_de_terrenos_de_playa%2C_se_requiere_copia_autorizada_de_la_inscripci%C3%B3n_de_dominio_a_nombre_del_fisco%2C_con_certificaci%C3%B3n_de_vigencia\n",
      "http://example.org/Escura_p%C3%BAblica_o_Instrumento_privado_autorizado_ante_notario_en_que_conste_el_acto_jur%C3%ADdico_respectivo%2C_seg%C3%BAn_lo_dispuesto_en_el_art%C3%ADculo_30_de_la_Ley_General_de_Pesca_y_Acuicultura.\n",
      "http://example.org/En_caso_de_persona_jur%C3%ADdica%2C_certificado_de_vigencia%2C_estatutos_%28modificaciones%29.\n",
      "http://example.org/Escritura_p%C3%BAblica_o_Instrumento_privado_autorizado_ante_notario_en_que_conste_el_acto_jur%C3%ADdico_respectivo%2C_seg%C3%BAn_lo_dispuesto_en_el_art%C3%ADculo_30_de_la_Ley_General_de_Pesca_y_Acuicultura.\n",
      "http://example.org/Declaraci%C3%B3n_jurada_notarial_en_la_que_exprese_no_estar_afecto_a_alguna_de_las_inhabilidades_contempladas_en_el_art%C3%ADculo_17_del_Libro_IV_del_C%C3%B3digo_de_Comercio.\n",
      "http://example.org/Declaraci%C3%B3n_jurada_notarial_en_la_que_exprese_no_tener_protestos_de_letras%2C_cheques_o_pagar%C3%A9s.\n",
      "http://example.org/Mandato_o_poder_donde_conste_la_representaci%C3%B3n_de_quien_realiza_la_solicitud_a_nombre_de_la_Pyme\n",
      "http://example.org/Declaraci%C3%B3n_Jurada_de_adhesi%C3%B3n_al_Sistema_de_Mediaci%C3%B3n_y_Arbitraje\n",
      "http://example.org/Declaraci%C3%B3n_Jurada_de_Integridad_de_contratos\n",
      "http://example.org/Declaraci%C3%B3n_jurada_notarial_para_postular_a_%C3%81rbitro_y_Mediador.\n",
      "http://example.org/Declaraci%C3%B3n_jurada%2C_firmada_por_el_o_los_representantes_legales_del_proveedor_solicitante%2C_en_que_se_deje_constancia_de_que_los_antecedentes_aportados_y_la_informaci%C3%B3n_contenida_en_%C3%A9stos%2C_son_ver%C3%ADdicos_y_fidedignos.\n",
      "http://example.org/Declaraci%C3%B3n_jurada_del_representante_legal%2C_en_que_declare%2C_bajo_juramento%2C_que_la_sociedad_no_ha_sido_condenada_por_delitos_indicados_o_infracciones_a_las_normas_contenidas_en_la_Ley_N%C2%B0_20.169%2C_que_regula_la_Competencia_Desleal\n",
      "http://example.org/Declaraci%C3%B3n_jurada_del_representante_legal%2C_en_que_declare%2C_bajo_juramento%2C_que_la_sociedad_realiza_sus_actividades_con_apego_al_principio_de_imparcialidad_descrito_en_la_Circular.\n",
      "http://example.org/Documentaci%C3%B3n_societaria_de_constituci%C3%B3n_y_posibles_modificaciones.\n",
      "http://example.org/Declaraci%C3%B3n_jurada_ante_Notario_del_representante_legal%2C_en_que_declare%2C_bajo_juramento%2C_que_la_sociedad_cumple_con_todos_los_requisitos_se%C3%B1alados.\n",
      "http://example.org/Declaraci%C3%B3n_jurada_firmada_por_el_o_los_representantes_legales_en_que_se_deje_constancia_que_los_antecedentes_aportados.\n",
      "58\n"
     ]
    }
   ],
   "source": [
    "query_instituciones_salud = \"\"\"\n",
    "    SELECT DISTINCT ?documento\n",
    "    WHERE {\n",
    "        ?ministerio rdf:type ex:Ministerio.\n",
    "        ?ministerio ex:tieneInstitucion ?institucion .\n",
    "        ?institucion rdf:type ex:Institucion .\n",
    "        ?institucion ex:realizaTramite ?tramite.\n",
    "        ?tramite ex:requiereDocumento ?documento.\n",
    "        \n",
    "        FILTER (?ministerio = ex:Ministerio_de_Econom%C3%ADa%2C_Fomento_y_Turismo)\n",
    "    }\n",
    "\"\"\"\n",
    "# Preparar la consulta\n",
    "query_instituciones_salud = prepareQuery(query_instituciones_salud, initNs={\"rdf\": RDF, \"ex\": ex})\n",
    "\n",
    "# Ejecutar la consulta en el grafo RDF\n",
    "result_instituciones_salud = g.query(query_instituciones_salud)\n",
    "\n",
    "# Imprimir los resultados\n",
    "print(\"requisitos asociadas al Ministerio de Hacienda:\")\n",
    "j=0\n",
    "for row in result_instituciones_salud:\n",
    "    j+=1    \n",
    "    print(row.documento)\n",
    "print(j)"
   ]
  },
  {
   "cell_type": "markdown",
   "id": "95f3caf8",
   "metadata": {},
   "source": [
    "### Número de requisitos distintos"
   ]
  },
  {
   "cell_type": "code",
   "execution_count": 29,
   "id": "41a33572",
   "metadata": {
    "scrolled": true
   },
   "outputs": [
    {
     "name": "stdout",
     "output_type": "stream",
     "text": [
      "Número de documentos distintos: 365\n",
      "Número de certificados distintos: 93\n",
      "1\n",
      "Tiempo de ejecución: 0.0 segundos\n"
     ]
    }
   ],
   "source": [
    "ex = Namespace(\"http://example.org/\")\n",
    "# Definir la consulta SPARQL\n",
    "query = prepareQuery(\"\"\"\n",
    "    PREFIX ex: <http://example.org/>\n",
    "\n",
    "    SELECT (COUNT(DISTINCT ?documento) AS ?numDocumentos) (COUNT(DISTINCT ?certificado) AS ?numCertificados)\n",
    "    WHERE {\n",
    "      ?tramite rdf:type ex:Tramite.\n",
    "      OPTIONAL { ?tramite ex:requiereDocumento ?documento. }\n",
    "      OPTIONAL { ?tramite ex:requiereCertificado ?certificado. }\n",
    "    }\n",
    "\"\"\", initNs={\"ex\": ex})\n",
    "start_time = time.time()\n",
    "\n",
    "# Ejecutar la consulta y obtener los resultados\n",
    "resultados = g.query(query)\n",
    "\n",
    "# Detener temporizador y calcular tiempo transcurrido\n",
    "end_time = time.time()\n",
    "\n",
    "elapsed_time = end_time - start_time\n",
    "# Mostrar los resultados\n",
    "for resultado in resultados:\n",
    "    num_documentos = resultado[0]\n",
    "    num_certificados = resultado[1]\n",
    "    print(\"Número de documentos distintos:\", num_documentos)\n",
    "    print(\"Número de certificados distintos:\", num_certificados)\n",
    "    \n",
    "print(\"Tiempo de ejecución:\", elapsed_time, \"segundos\")"
   ]
  },
  {
   "cell_type": "markdown",
   "id": "102796da",
   "metadata": {},
   "source": [
    "# ----------------------\n",
    "# Modificaciones al grafo\n",
    "# ----------------------"
   ]
  },
  {
   "cell_type": "markdown",
   "id": "11e42e56",
   "metadata": {},
   "source": [
    "### Consultar si se agregó el nuevo nodo"
   ]
  },
  {
   "cell_type": "code",
   "execution_count": 79,
   "id": "41f60cb9",
   "metadata": {},
   "outputs": [],
   "source": [
    "ex = Namespace(\"http://example.org/\")\n",
    "\n",
    "# Definir la consulta SPARQL para obtener la información de una institución específica\n",
    "query = prepareQuery(\"\"\"\n",
    "    PREFIX ex: <http://example.org/>\n",
    "\n",
    "    SELECT ?institucion ?tramite\n",
    "    WHERE {\n",
    "        ?institucion rdf:type ex:Institucion .\n",
    "        ?institucion ex:tieneNuevoNodo ?tramite .\n",
    "        FILTER(?institucion = ex:Servicio_Nacional_de_Aduanas)  # Filtrar por la institución específica\n",
    "    }\n",
    "\"\"\", initNs={\"ex\": ex})\n",
    "\n",
    "# Ejecutar la consulta\n",
    "results = g.query(query)\n",
    "\n",
    "# Imprimir los resultados\n",
    "for row in results:\n",
    "    print(row)"
   ]
  },
  {
   "cell_type": "markdown",
   "id": "1ec2e783",
   "metadata": {},
   "source": [
    "## Agregar un nuevo nodo a cada institucion"
   ]
  },
  {
   "cell_type": "code",
   "execution_count": 75,
   "id": "5de64ca9",
   "metadata": {},
   "outputs": [
    {
     "name": "stdout",
     "output_type": "stream",
     "text": [
      "Tiempo de ejecución: 0.005017280578613281 segundos\n"
     ]
    }
   ],
   "source": [
    "from rdflib import Graph, Namespace, URIRef\n",
    "from rdflib.namespace import RDF\n",
    "\n",
    "start_time = time.time()\n",
    "# Definir el prefijo y el espacio de nombres\n",
    "# Definir la consulta SPARQL para seleccionar todos los sujetos de un cierto tipo\n",
    "query = \"\"\"\n",
    "    PREFIX ex: <http://example.org/>\n",
    "    SELECT ?institucion\n",
    "    WHERE {\n",
    "        ?institucion rdf:type ex:Institucion.\n",
    "    }\n",
    "\"\"\"\n",
    "# Ejecutar la consulta SPARQL\n",
    "result = g.query(query)\n",
    "end_time = time.time()\n",
    "\n",
    "elapsed_time = end_time - start_time\n",
    "print(\"Tiempo de ejecución:\", elapsed_time, \"segundos\")"
   ]
  },
  {
   "cell_type": "code",
   "execution_count": 76,
   "id": "1478c44c",
   "metadata": {},
   "outputs": [
    {
     "name": "stdout",
     "output_type": "stream",
     "text": [
      "Tiempo de ejecución: 0.012992620468139648 segundos\n"
     ]
    }
   ],
   "source": [
    "start_time = time.time()\n",
    "\n",
    "# Recorrer los resultados y agregar un nuevo nodo a cada uno\n",
    "for row in result:\n",
    "    # Obtener el sujeto de la fila\n",
    "    sujeto = row[0]\n",
    "    \n",
    "    # Agregar el nuevo nodo al sujeto\n",
    "    nuevo_nodo = URIRef(\"http://example.org/NuevoNodo\")\n",
    "    g.add((sujeto, ex.tieneNuevoNodo, ex.nuevo_nodo))\n",
    "    g.add((ex.nuevo_nodo, RDF.type, ex.newnodo))\n",
    "end_time = time.time()\n",
    "elapsed_time = end_time - start_time\n",
    "print(\"Tiempo de ejecución:\", elapsed_time, \"segundos\")"
   ]
  },
  {
   "cell_type": "markdown",
   "id": "f8a873b5",
   "metadata": {},
   "source": [
    "### eliminar nuevo nodo en institución"
   ]
  },
  {
   "cell_type": "code",
   "execution_count": null,
   "id": "bf31744d",
   "metadata": {},
   "outputs": [],
   "source": [
    "start_time = time.time()\n",
    "\n",
    "# Buscar todos los nodos que agregaste previamente y eliminarlos\n",
    "nodos_agregados = g.subjects(predicate=ex.tieneNuevoNodo, object=ex.nuevo_nodo)\n",
    "for nodo in nodos_agregados:\n",
    "    g.remove((nodo, None, None))  # Eliminar todas las tripletas relacionadas con el nodo\n",
    "    g.remove((None, None, nodo))  # Eliminar todas las tripletas donde el nodo es objeto\n",
    "\n",
    "end_time = time.time()\n",
    "elapsed_time = end_time - start_time\n",
    "print(\"Tiempo de ejecución:\", elapsed_time, \"segundos\")"
   ]
  },
  {
   "cell_type": "markdown",
   "id": "8f30e322",
   "metadata": {},
   "source": [
    "## Agregar nuevo nodo a cada tramite"
   ]
  },
  {
   "cell_type": "code",
   "execution_count": null,
   "id": "27032621",
   "metadata": {},
   "outputs": [],
   "source": [
    "start_time = time.time()\n",
    "# Definir el prefijo y el espacio de nombres\n",
    "# Definir la consulta SPARQL para seleccionar todos los sujetos de un cierto tipo\n",
    "query = \"\"\"\n",
    "    PREFIX ex: <http://example.org/>\n",
    "    SELECT ?tramite\n",
    "    WHERE {\n",
    "        ?institucion rdf:type ex:Tramite.\n",
    "    }\n",
    "\"\"\"\n",
    "# Ejecutar la consulta SPARQL\n",
    "resulttramite = g.query(query)\n",
    "end_time = time.time()\n",
    "\n",
    "elapsed_time = end_time - start_time\n",
    "print(\"Tiempo de ejecución:\", elapsed_time, \"segundos\")"
   ]
  },
  {
   "cell_type": "code",
   "execution_count": null,
   "id": "0bc6baa1",
   "metadata": {},
   "outputs": [],
   "source": [
    "start_time = time.time()\n",
    "\n",
    "# Recorrer los resultados y agregar un nuevo nodo a cada uno\n",
    "for row in resulttramite:\n",
    "    # Obtener el sujeto de la fila\n",
    "    sujeto = row[0]\n",
    "    \n",
    "    # Agregar el nuevo nodo al sujeto\n",
    "    nuevo_nodo = URIRef(\"http://example.org/NuevoNodo\")\n",
    "    g.add((sujeto, ex.tieneNuevoNodo, ex.nuevo_nodo))\n",
    "    g.add((ex.nuevo_nodo, RDF.type, ex.newnodo))\n",
    "end_time = time.time()\n",
    "elapsed_time = end_time - start_time\n",
    "print(\"Tiempo de ejecución:\", elapsed_time, \"segundos\")"
   ]
  },
  {
   "cell_type": "markdown",
   "id": "da5dc353",
   "metadata": {},
   "source": [
    "### eliminar nuevo nodo en tramite"
   ]
  },
  {
   "cell_type": "code",
   "execution_count": null,
   "id": "21184211",
   "metadata": {},
   "outputs": [],
   "source": [
    "start_time = time.time()\n",
    "\n",
    "# Buscar todos los nodos que agregaste previamente y eliminarlos\n",
    "nodos_agregados = g.subjects(predicate=ex.tieneNuevoNodo, object=ex.nuevo_nodo)\n",
    "for nodo in nodos_agregados:\n",
    "    g.remove((nodo, None, None))  # Eliminar todas las tripletas relacionadas con el nodo\n",
    "    g.remove((None, None, nodo))  # Eliminar todas las tripletas donde el nodo es objeto\n",
    "\n",
    "end_time = time.time()\n",
    "elapsed_time = end_time - start_time\n",
    "print(\"Tiempo de ejecución:\", elapsed_time, \"segundos\")\n"
   ]
  },
  {
   "cell_type": "markdown",
   "id": "bbc98605",
   "metadata": {},
   "source": [
    "# Eliminacion de nodos"
   ]
  },
  {
   "cell_type": "code",
   "execution_count": 78,
   "id": "3fdb013f",
   "metadata": {},
   "outputs": [
    {
     "name": "stdout",
     "output_type": "stream",
     "text": [
      "Tiempo de ejecución: 0.04686427116394043 segundos\n"
     ]
    }
   ],
   "source": [
    "start_time = time.time()\n",
    "\n",
    "# Buscar todos los nodos que agregaste previamente y eliminarlos\n",
    "nodos_agregados = g.subjects(predicate=ex.tieneNuevoNodo, object=ex.nuevo_nodo)\n",
    "for nodo in nodos_agregados:\n",
    "    g.remove((nodo, None, None))  # Eliminar todas las tripletas relacionadas con el nodo\n",
    "    g.remove((None, None, nodo))  # Eliminar todas las tripletas donde el nodo es objeto\n",
    "\n",
    "end_time = time.time()\n",
    "elapsed_time = end_time - start_time\n",
    "print(\"Tiempo de ejecución:\", elapsed_time, \"segundos\")\n"
   ]
  },
  {
   "cell_type": "markdown",
   "id": "453c9ee2",
   "metadata": {},
   "source": [
    "### Comprovaciones"
   ]
  },
  {
   "cell_type": "markdown",
   "id": "6925ccba",
   "metadata": {},
   "source": [
    "### Número de instituciones por ministerio"
   ]
  },
  {
   "cell_type": "code",
   "execution_count": 7,
   "id": "dd33d08e",
   "metadata": {},
   "outputs": [
    {
     "name": "stdout",
     "output_type": "stream",
     "text": [
      "Número total de instituciones únicas: 36\n"
     ]
    }
   ],
   "source": [
    "import pandas as pd\n",
    "\n",
    "# Lee el archivo Excel\n",
    "df = pd.read_excel('tramites/tramites_disponibles.xlsx')  # Reemplaza 'tu_archivo.xlsx' con la ruta de tu archivo\n",
    "\n",
    "# Filtra las filas donde la columna 'Ministerio' es igual a 'Ministerio de Salud'\n",
    "df_filtrado = df[df['Ministerio'] == 'Ministerio de Salud']\n",
    "\n",
    "# Obtiene una lista única de instituciones\n",
    "lista_instituciones = df_filtrado['Institución'].unique()\n",
    "\n",
    "# Obtiene el número total de instituciones únicas\n",
    "numero_instituciones = len(lista_instituciones)\n",
    "\n",
    "# Muestra el número de instituciones\n",
    "print(\"Número total de instituciones únicas:\", numero_instituciones)\n"
   ]
  },
  {
   "cell_type": "markdown",
   "id": "bcb48d54",
   "metadata": {},
   "source": [
    "### Número de tramites"
   ]
  },
  {
   "cell_type": "code",
   "execution_count": 56,
   "id": "b7b41c02",
   "metadata": {},
   "outputs": [
    {
     "name": "stdout",
     "output_type": "stream",
     "text": [
      "Número total de instituciones únicas: 525\n"
     ]
    }
   ],
   "source": [
    "import pandas as pd\n",
    "\n",
    "# Lee el archivo Excel\n",
    "df = pd.read_excel('tramites/tramites_disponibles.xlsx')  # Reemplaza 'tu_archivo.xlsx' con la ruta de tu archivo\n",
    "\n",
    "# Filtra las filas donde la columna 'Ministerio' es igual a 'Ministerio de Salud'\n",
    "df_filtrado = df[df['Ministerio'] == 'Ministerio de Salud']\n",
    "\n",
    "# Obtiene una lista única de instituciones\n",
    "\n",
    "\n",
    "# Obtiene el número total de instituciones únicas\n",
    "numero_instituciones = len(df_filtrado)\n",
    "\n",
    "# Muestra el número de instituciones\n",
    "print(\"Número total de instituciones únicas:\", numero_instituciones)"
   ]
  }
 ],
 "metadata": {
  "kernelspec": {
   "display_name": "practica",
   "language": "python",
   "name": "practica"
  },
  "language_info": {
   "codemirror_mode": {
    "name": "ipython",
    "version": 3
   },
   "file_extension": ".py",
   "mimetype": "text/x-python",
   "name": "python",
   "nbconvert_exporter": "python",
   "pygments_lexer": "ipython3",
   "version": "3.10.10"
  }
 },
 "nbformat": 4,
 "nbformat_minor": 5
}
