{
 "cells": [
  {
   "cell_type": "code",
   "execution_count": 110,
   "id": "d4d2e1ab",
   "metadata": {},
   "outputs": [],
   "source": [
    "import pandas as pd\n",
    "from rdflib import Graph, URIRef, Literal, RDF, RDFS, Namespace\n",
    "from urllib.parse import quote\n",
    "from rdflib.plugins.sparql import prepareQuery\n",
    "import time"
   ]
  },
  {
   "cell_type": "markdown",
   "id": "bd8211ab",
   "metadata": {},
   "source": [
    "## Cargar excel al grafo"
   ]
  },
  {
   "cell_type": "code",
   "execution_count": 3,
   "id": "2b0c504c",
   "metadata": {},
   "outputs": [],
   "source": [
    "dfcert = pd.read_excel('tramites/certificadosnormsinespaciocertlisto.xlsx')\n",
    "dfdoc = pd.read_excel('tramites/certificadosnormsinespaciodoclisto.xlsx')"
   ]
  },
  {
   "cell_type": "code",
   "execution_count": 124,
   "id": "568e39a7",
   "metadata": {},
   "outputs": [],
   "source": [
    "# Crear el grafo y el espacio de nombres\n",
    "g = Graph()\n",
    "ex = Namespace(\"http://example.org/\")\n",
    "\n",
    "# Diccionario para realizar un seguimiento de las instituciones\n",
    "Ministerios = {}\n",
    "Ministerios_uri = {}\n",
    "Tramitesdic = {}\n",
    "# Iterar sobre el DataFrame y agregar ministerio, instituciones y tramites con documentos\n",
    "for _, row in dfcert.iterrows():\n",
    "    tramite_nombre = row['Nombre del trámite']\n",
    "    tramite_uri = Tramitesdic.get(tramite_nombre)\n",
    "    if not tramite_uri:\n",
    "        Ministerio_nombre = row['Ministerio']\n",
    "        Ministerio_uri = Ministerios_uri.get(Ministerio_nombre)\n",
    "        # Si el ministerio no existe en el diccionario, crear el nodo\n",
    "        if not Ministerio_uri:\n",
    "            Ministerio_uri = ex[quote(Ministerio_nombre.replace(\" \", \"_\"))]\n",
    "            g.add((Ministerio_uri, RDF.type, ex.Ministerio))\n",
    "            Ministerios_uri[Ministerio_nombre] = Ministerio_uri\n",
    "            Ministerios[Ministerio_nombre]={}\n",
    "        institucion_nombre = row['Institución']\n",
    "        institucion_uri = Ministerios[Ministerio_nombre].get(institucion_nombre)\n",
    "        # Si la institución no existe en el diccionario, crear el nodo\n",
    "        if not institucion_uri:\n",
    "            institucion_uri = ex[quote(institucion_nombre.replace(\" \", \"_\"))]\n",
    "            g.add((institucion_uri, RDF.type, ex.Institucion))\n",
    "            g.add((Ministerio_uri, ex.tieneInstitucion, institucion_uri))\n",
    "            Ministerios[Ministerio_nombre][institucion_nombre] = institucion_uri        \n",
    "        # Crear el nodo para el tramite y conectarlo a la institución\n",
    "        tramite_nombre = row['Nombre del trámite']\n",
    "        tramite_uri = ex[quote(tramite_nombre.replace(\" \", \"_\"))]\n",
    "        g.add((tramite_uri, RDF.type, ex.Tramite))\n",
    "        g.add((institucion_uri, ex.realizaTramite, tramite_uri))\n",
    "        Tramitesdic[tramite_nombre]=tramite_uri\n",
    "    if row['¿Requiere de algún certificado?'] == 'Sí':\n",
    "        # Crear nodos para cada documento y conectarlos al tramite\n",
    "        certificado_nombre = row['Detalle certificados']\n",
    "        certificado_uri = ex[quote(certificado_nombre.replace(\" \", \"_\"))]\n",
    "        g.add((certificado_uri, RDF.type, ex.certificado))\n",
    "        g.add((tramite_uri, ex.requiereCertificado, certificado_uri))\n",
    "    \n",
    "#-------------------------Requerimientos-----------------\n",
    "#-------Documentos notariales\n",
    "    # Verificar si el tramite requiere documento\n",
    "for _, row in dfdoc.iterrows():\n",
    "    tramite_nombre = row['Nombre del trámite']\n",
    "    tramite_uri = Tramitesdic.get(tramite_nombre)\n",
    "    if row['¿Requiere de un documento notarial?'] == 'Sí':\n",
    "        documento_nombre = row['Detalle documentos']\n",
    "        documento_uri = ex[quote(documento_nombre.replace(\" \",\"_\"))]\n",
    "        g.add((documento_uri, RDF.type, ex.Documento))\n",
    "        g.add((tramite_uri, ex.requiereDocumento, documento_uri))"
   ]
  },
  {
   "cell_type": "markdown",
   "id": "9faa1267",
   "metadata": {},
   "source": [
    "# Consultas"
   ]
  },
  {
   "cell_type": "markdown",
   "id": "733a1719",
   "metadata": {},
   "source": [
    "### tramites en cierto ministerio"
   ]
  },
  {
   "cell_type": "code",
   "execution_count": 4,
   "id": "29c115d6",
   "metadata": {},
   "outputs": [
    {
     "name": "stdout",
     "output_type": "stream",
     "text": [
      "Instituciones asociadas al Ministerio de Salud:\n",
      "http://example.org/Sistema_Integrado_de_Atenci%C3%B3n_Ciudadana_%28SIAC%29_del_Consejo_Nacional_de_Televisi%C3%B3n_%28CNTV%29.\n",
      "http://example.org/Recepci%C3%B3n_de_denuncias_sobre_programas_exhibidos_en_televisi%C3%B3n\n",
      "http://example.org/Fondo_CNTV\n",
      "http://example.org/Postulaci%C3%B3n_a_Concesiones_de_Televisi%C3%B3n_Digital_de_Libre_Recepci%C3%B3n\n",
      "http://example.org/Solicitud_de_Acceso_a_la_Informaci%C3%B3n_P%C3%BAblica_%28Ley_20.285%29\n",
      "http://example.org/Solicitud_de_Audiencia_%28Ley_20.730%29\n",
      "http://example.org/Sistema_Integral_de_Atenci%C3%B3n_Ciudadana\n",
      "http://example.org/Postulaci%C3%B3n_al_fondo_de_fortalecimiento_de_las_organizaciones_de_inter%C3%A9s_p%C3%BAblico\n",
      "http://example.org/Postulaci%C3%B3n_al_fondo_al_fomento_de_medios_de_comunicaci%C3%B3n\n",
      "http://example.org/Solicitud_de_Inscripci%C3%B3n_al_Catastro_de_Organizaciones_de_Inter%C3%A9s_P%C3%BAblico\n",
      "http://example.org/Solicitud_de_Certificado_de_Organizaci%C3%B3n_Comunitaria\n",
      "http://example.org/Solicitud_de_Acceso_a_la_Informaci%C3%B3n_P%C3%BAblica_%28Ley_20.285%29\n",
      "http://example.org/Solicitud_de_Audiencia_%28Ley_20.730%29\n",
      "13\n"
     ]
    }
   ],
   "source": [
    "query_instituciones_salud = \"\"\"\n",
    "    PREFIX ex: <http://example.org/>\n",
    "    SELECT ?tramite\n",
    "    WHERE {\n",
    "        ?ministerio rdf:type ex:Ministerio.\n",
    "        ?ministerio ex:tieneInstitucion ?institucion.\n",
    "        ?institucion rdf:type ex:Institucion.\n",
    "        ?institucion ex:realizaTramite ?tramite.\n",
    "        FILTER (?ministerio = ex:Ministerio_Secretaria_General_de_Gobierno)\n",
    "\n",
    "    }\n",
    "\"\"\"\n",
    "\n",
    "# Preparar la consulta\n",
    "query_instituciones_salud = prepareQuery(query_instituciones_salud, initNs={\"rdf\": RDF, \"ex\": ex})\n",
    "\n",
    "# Ejecutar la consulta en el grafo RDF\n",
    "result_instituciones_salud = g.query(query_instituciones_salud)\n",
    "\n",
    "# Imprimir los resultados\n",
    "print(\"Instituciones asociadas al Ministerio de Salud:\")\n",
    "j=0\n",
    "for row in result_instituciones_salud:\n",
    "    j+=1\n",
    "    print(row.tramite)\n",
    "print(j)\n"
   ]
  },
  {
   "cell_type": "markdown",
   "id": "16822040",
   "metadata": {},
   "source": [
    "### Ministerios"
   ]
  },
  {
   "cell_type": "code",
   "execution_count": 5,
   "id": "31ae04c0",
   "metadata": {},
   "outputs": [
    {
     "name": "stdout",
     "output_type": "stream",
     "text": [
      "Instituciones asociadas al Ministerio de Salud:\n",
      "http://example.org/Ministerio_de_Transportes_y_Telecomunicaciones\n",
      "http://example.org/Ministerio_de_Hacienda\n",
      "http://example.org/Ministerio_de_las_Culturas%2C_las_Artes_y_el_Patrimonio\n",
      "http://example.org/Consejo_de_Defensa_del_Estado\n",
      "http://example.org/Ministerio_de_Desarrollo_Social_y_Familia\n",
      "http://example.org/Ministerio_de_Agricultura\n",
      "http://example.org/Ministerio_de_Econom%C3%ADa%2C_Fomento_y_Turismo\n",
      "http://example.org/Ministerio_de_Defensa_Nacional\n",
      "http://example.org/Ministerio_de_Obras_P%C3%BAblicas\n",
      "http://example.org/Ministerio_del_Trabajo_y_Previsi%C3%B3n_Social\n",
      "http://example.org/Ministerio_de_Justicia_y_Derechos_Humanos\n",
      "http://example.org/Ministerio_de_Relaciones_Exteriores\n",
      "http://example.org/Ministerio_del_Deporte\n",
      "http://example.org/Ministerio_de_Salud\n",
      "http://example.org/Ministerio_de_Educaci%C3%B3n\n",
      "http://example.org/Ministerio_de_Energ%C3%ADa\n",
      "http://example.org/Ministerio_del_Medio_Ambiente\n",
      "http://example.org/Ministerio_de_Miner%C3%ADa\n",
      "http://example.org/Ministerio_de_la_Mujer_y_la_Equidad_de_G%C3%A9nero\n",
      "http://example.org/Ministerio_del_Interior_y_Seguridad_P%C3%BAblica\n",
      "http://example.org/Ministerio_de_Bienes_Nacionales\n",
      "http://example.org/Ministerio_de_Vivienda_y_Urbanismo\n",
      "http://example.org/Ministerio_de_Ciencia%2C_Tecnolog%C3%ADa%2C_Conocimiento_e_Innovaci%C3%B3n\n",
      "http://example.org/Ministerio_Secretaria_General_de_Gobierno\n",
      "http://example.org/Servicio_Electoral\n",
      "http://example.org/Conservador_de_Bienes_Ra%C3%ADces\n",
      "http://example.org/Ministerio_Secretar%C3%ADa_General_de_la_Presidencia\n",
      "http://example.org/Defensor%C3%ADa_de_los_Derechos_de_la_Ni%C3%B1ez\n",
      "http://example.org/Contralor%C3%ADa_General_de_la_Rep%C3%BAblica\n",
      "http://example.org/Presidencia_de_la_Rep%C3%BAblica\n",
      "http://example.org/Consejo_para_la_Transparencia\n"
     ]
    }
   ],
   "source": [
    "query_instituciones_salud = \"\"\"\n",
    "    SELECT DISTINCT ?ministerio\n",
    "    WHERE {\n",
    "        ?ministerio rdf:type ex:Ministerio ;\n",
    "\n",
    "    }\n",
    "\"\"\"\n",
    "# Preparar la consulta\n",
    "query_instituciones_salud = prepareQuery(query_instituciones_salud, initNs={\"rdf\": RDF, \"ex\": ex})\n",
    "\n",
    "# Ejecutar la consulta en el grafo RDF\n",
    "result_instituciones_salud = g.query(query_instituciones_salud)\n",
    "\n",
    "# Imprimir los resultados\n",
    "print(\"Instituciones asociadas al Ministerio de Salud:\")\n",
    "for row in result_instituciones_salud:\n",
    "    print(row.ministerio)\n"
   ]
  },
  {
   "cell_type": "markdown",
   "id": "0dee6013",
   "metadata": {},
   "source": [
    "### Instituciones asociadas a algún ministerio"
   ]
  },
  {
   "cell_type": "code",
   "execution_count": 6,
   "id": "0d6a7791",
   "metadata": {},
   "outputs": [
    {
     "name": "stdout",
     "output_type": "stream",
     "text": [
      "Instituciones asociadas al Ministerio de Hacienda:\n",
      "http://example.org/Servicio_Nacional_de_Aduanas\n",
      "http://example.org/Direcci%C3%B3n_de_Compras_y_Contrataci%C3%B3n_P%C3%BAblica\n",
      "http://example.org/Comisi%C3%B3n_para_el_Mercado_Financiero\n",
      "http://example.org/Subsecretar%C3%ADa_de_Hacienda\n",
      "http://example.org/Tesorer%C3%ADa_General_de_La_Rep%C3%BAblica\n",
      "http://example.org/Superintendencia_de_Casinos_de_Juego\n",
      "http://example.org/Direcci%C3%B3n_Nacional_del_Servicio_Civil\n",
      "http://example.org/Unidad_de_An%C3%A1lisis_Financiero\n",
      "http://example.org/Servicio_de_Impuestos_Internos\n",
      "http://example.org/Unidad_Administradora_de_los_Tribunales_Tributarios_y_Aduaneros\n",
      "http://example.org/Direcci%C3%B3n_de_Presupuestos\n"
     ]
    }
   ],
   "source": [
    "query_instituciones_salud = \"\"\"\n",
    "    SELECT DISTINCT ?institucion\n",
    "    WHERE {\n",
    "        ?ministerio rdf:type ex:Ministerio ;\n",
    "                    ex:tieneInstitucion ?institucion .\n",
    "        ?institucion rdf:type ex:Institucion .\n",
    "        FILTER (?ministerio = ex:Ministerio_de_Hacienda)\n",
    "    }\n",
    "\"\"\"\n",
    "# Preparar la consulta\n",
    "query_instituciones_salud = prepareQuery(query_instituciones_salud, initNs={\"rdf\": RDF, \"ex\": ex})\n",
    "\n",
    "# Ejecutar la consulta en el grafo RDF\n",
    "result_instituciones_salud = g.query(query_instituciones_salud)\n",
    "\n",
    "# Imprimir los resultados\n",
    "print(\"Instituciones asociadas al Ministerio de Hacienda:\")\n",
    "for row in result_instituciones_salud:\n",
    "    print(row.institucion) "
   ]
  },
  {
   "cell_type": "markdown",
   "id": "d94845e4",
   "metadata": {},
   "source": [
    "### Contar instuciones por ministerio"
   ]
  },
  {
   "cell_type": "code",
   "execution_count": 70,
   "id": "dc7346cb",
   "metadata": {},
   "outputs": [
    {
     "name": "stdout",
     "output_type": "stream",
     "text": [
      "Número de instituciones por ministerio:\n"
     ]
    }
   ],
   "source": [
    "from rdflib import Graph, Namespace, RDF, URIRef, Literal\n",
    "from urllib.parse import quote\n",
    "# Consulta SPARQL para contar instituciones por ministerio\n",
    "query_contar_instituciones_por_ministerio = \"\"\"\n",
    "    PREFIX ex: <http://example.org/>\n",
    "\n",
    "    SELECT ?ministerio (COUNT( ?institucion) AS ?count)\n",
    "    WHERE {\n",
    "        ?ministerio rdf:type ex:Ministerio.\n",
    "        ?ministerio ex:tieneInstitucion ?institucion.\n",
    "    }\n",
    "    GROUP BY ?ministerio\n",
    "\"\"\"\n",
    "# Ejecutar la consulta en el grafo RDF\n",
    "result_contar_instituciones_por_ministerio = g.query(query_contar_instituciones_por_ministerio)\n",
    "\n",
    "# Imprimir los resultados\n",
    "print(\"Número de instituciones por ministerio:\")\n",
    "for row in result_contar_instituciones_por_ministerio:\n",
    "    ministerio = row[\"ministerio\"]\n",
    "    cantidad_instituciones = row[\"count\"]\n",
    "    print(f\"{ministerio}: {cantidad_instituciones}\")"
   ]
  },
  {
   "cell_type": "markdown",
   "id": "89e7c11b",
   "metadata": {},
   "source": [
    "### Contar tramites por ministerio"
   ]
  },
  {
   "cell_type": "code",
   "execution_count": 8,
   "id": "dfdcb85b",
   "metadata": {},
   "outputs": [
    {
     "name": "stdout",
     "output_type": "stream",
     "text": [
      "Número de tramites por ministerio:\n",
      "http://example.org/Ministerio_de_Transportes_y_Telecomunicaciones: 175\n",
      "http://example.org/Ministerio_de_Hacienda: 426\n",
      "http://example.org/Ministerio_de_las_Culturas%2C_las_Artes_y_el_Patrimonio: 156\n",
      "http://example.org/Consejo_de_Defensa_del_Estado: 4\n",
      "http://example.org/Ministerio_de_Desarrollo_Social_y_Familia: 111\n",
      "http://example.org/Ministerio_de_Agricultura: 176\n",
      "http://example.org/Ministerio_de_Econom%C3%ADa%2C_Fomento_y_Turismo: 324\n",
      "http://example.org/Ministerio_de_Defensa_Nacional: 374\n",
      "http://example.org/Ministerio_de_Obras_P%C3%BAblicas: 84\n",
      "http://example.org/Ministerio_del_Trabajo_y_Previsi%C3%B3n_Social: 239\n",
      "http://example.org/Ministerio_de_Justicia_y_Derechos_Humanos: 158\n",
      "http://example.org/Ministerio_de_Relaciones_Exteriores: 47\n",
      "http://example.org/Ministerio_del_Deporte: 19\n",
      "http://example.org/Ministerio_de_Salud: 525\n",
      "http://example.org/Ministerio_de_Educaci%C3%B3n: 146\n",
      "http://example.org/Ministerio_de_Energ%C3%ADa: 86\n",
      "http://example.org/Ministerio_del_Medio_Ambiente: 66\n",
      "http://example.org/Ministerio_de_Miner%C3%ADa: 41\n",
      "http://example.org/Ministerio_de_la_Mujer_y_la_Equidad_de_G%C3%A9nero: 21\n",
      "http://example.org/Ministerio_del_Interior_y_Seguridad_P%C3%BAblica: 303\n",
      "http://example.org/Ministerio_de_Bienes_Nacionales: 29\n",
      "http://example.org/Ministerio_de_Vivienda_y_Urbanismo: 42\n",
      "http://example.org/Ministerio_de_Ciencia%2C_Tecnolog%C3%ADa%2C_Conocimiento_e_Innovaci%C3%B3n: 42\n",
      "http://example.org/Ministerio_Secretaria_General_de_Gobierno: 13\n",
      "http://example.org/Servicio_Electoral: 20\n",
      "http://example.org/Conservador_de_Bienes_Ra%C3%ADces: 31\n",
      "http://example.org/Ministerio_Secretar%C3%ADa_General_de_la_Presidencia: 11\n",
      "http://example.org/Defensor%C3%ADa_de_los_Derechos_de_la_Ni%C3%B1ez: 2\n",
      "http://example.org/Contralor%C3%ADa_General_de_la_Rep%C3%BAblica: 8\n",
      "http://example.org/Presidencia_de_la_Rep%C3%BAblica: 2\n",
      "http://example.org/Consejo_para_la_Transparencia: 2\n"
     ]
    }
   ],
   "source": [
    "from rdflib import Graph, Namespace, RDF, URIRef, Literal\n",
    "from urllib.parse import quote\n",
    "\n",
    "# Consulta SPARQL para contar instituciones por ministerio\n",
    "query_contar_instituciones_por_ministerio = \"\"\"\n",
    "    PREFIX ex: <http://example.org/>\n",
    "\n",
    "    SELECT ?ministerio (COUNT( ?tramite) AS ?count)\n",
    "    WHERE {\n",
    "        ?ministerio rdf:type ex:Ministerio.\n",
    "        ?ministerio ex:tieneInstitucion ?institucion.\n",
    "        ?institucion rdf:type ex:Institucion.\n",
    "        ?institucion ex:realizaTramite ?tramite.\n",
    "      \n",
    "    }\n",
    "    GROUP BY ?ministerio\n",
    "\"\"\"\n",
    "# Ejecutar la consulta en el grafo RDF\n",
    "result_contar_instituciones_por_ministerio = g.query(query_contar_instituciones_por_ministerio)\n",
    "\n",
    "# Imprimir los resultados\n",
    "print(\"Número de tramites por ministerio:\")\n",
    "for row in result_contar_instituciones_por_ministerio:\n",
    "    ministerio = row[\"ministerio\"]\n",
    "    cantidad_instituciones = row[\"count\"]\n",
    "    print(f\"{ministerio}: {cantidad_instituciones}\")"
   ]
  },
  {
   "cell_type": "markdown",
   "id": "bf346201",
   "metadata": {},
   "source": [
    "### Requisitos por ministerio"
   ]
  },
  {
   "cell_type": "code",
   "execution_count": 25,
   "id": "eac7ed8e",
   "metadata": {
    "scrolled": false
   },
   "outputs": [
    {
     "name": "stdout",
     "output_type": "stream",
     "text": [
      "Tiempo de ejecución: 0.642315149307251 segundos\n"
     ]
    }
   ],
   "source": [
    "from rdflib import Graph, Literal, URIRef\n",
    "from rdflib.namespace import RDF, XSD\n",
    "\n",
    "# Ejecutar la consulta SPARQL\n",
    "query = \"\"\"\n",
    "PREFIX ex: <http://example.org/>\n",
    "\n",
    "SELECT ?ministerio (COUNT(DISTINCT ?documento) AS ?countDocumentos) (COUNT(DISTINCT?certificado) AS ?countCertificados) (COUNT(DISTINCT ?documento) + COUNT(DISTINCT ?certificado) AS ?suma)\n",
    "WHERE {\n",
    "    ?ministerio rdf:type ex:Ministerio.\n",
    "    ?ministerio ex:tieneInstitucion ?institucion.\n",
    "    ?institucion rdf:type ex:Institucion.\n",
    "    ?institucion ex:realizaTramite ?tramite.\n",
    "\n",
    "    OPTIONAL {\n",
    "        ?tramite ex:requiereDocumento ?documento.\n",
    "    }\n",
    "\n",
    "    OPTIONAL {\n",
    "        ?tramite ex:requiereCertificado ?certificado.\n",
    "    }\n",
    "}\n",
    "GROUP BY ?ministerio\n",
    "ORDER BY DESC(?suma)\n",
    "\"\"\"\n",
    "start_time = time.time()\n",
    "result = g.query(query)\n",
    "# Imprimir resultados\n",
    "for row in result:\n",
    "    ministerio, count_documentos, count_certificados, suma = row\n",
    "    print(f\"Ministerio: {ministerio}, Certificados: {count_certificados},Documentos: {count_documentos}, Suma: {suma}\")\n",
    "end_time = time.time()\n",
    "elapsed_time = end_time - start_time\n",
    "print(\"Tiempo de ejecución:\", elapsed_time, \"segundos\")"
   ]
  },
  {
   "cell_type": "markdown",
   "id": "a3845698",
   "metadata": {},
   "source": [
    "### Requisitos asociados a un ministerio"
   ]
  },
  {
   "cell_type": "code",
   "execution_count": 78,
   "id": "2014a20c",
   "metadata": {
    "collapsed": true
   },
   "outputs": [
    {
     "name": "stdout",
     "output_type": "stream",
     "text": [
      "requisitos asociadas al Ministerio de Hacienda:\n",
      "http://example.org/Autorizaci%C3%B3n_notarial_de_uso_de_infraestructura\n",
      "http://example.org/Mandato\n",
      "http://example.org/autorizaci%C3%B3n_notarial_de_representante_legal\n",
      "http://example.org/declaraci%C3%B3n_jurada_de_la_duraci%C3%B3n_de_la_sociedad\n",
      "http://example.org/Fotocopia_notarial_de_los_estatutos_de_la_organizaci%C3%B3n_y_sus_modificaciones\n",
      "http://example.org/Si_el_certificado_de_vigencia_no_establece_la_directiva%2C_se_deber%C3%A1_complementar_con_una_declaraci%C3%B3n_notarial_la_directiva%2C_por_el_presidente_o_representante_legal_de_la_organizaci%C3%B3n.\n",
      "http://example.org/poder_de_acreditaci%C3%B3n_de_representaci%C3%B3n_legal_vigente%2C_en_caso_de_personas_jur%C3%ADdicas\n",
      "http://example.org/declaraci%C3%B3n_jurada_de_residencia\n",
      "http://example.org/Declaraci%C3%B3n_jurada_de_origen_y\n",
      "http://example.org/o_informes_de_toxinas_emitidos_por_el_Servicio_de_Salud%2C_seg%C3%BAn_corresponda.\n",
      "http://example.org/Autorizaci%C3%B3n_notarial_en_caso_de_ser_tercero_en_representaci%C3%B3n_del_beneficiario\n",
      "http://example.org/Poder_de_acreditaci%C3%B3n_de_representaci%C3%B3n_legal_vigente_%28en_caso_de_ser_persona_jur%C3%ADdica%29\n",
      "http://example.org/Declaraci%C3%B3n_jurada.\n",
      "http://example.org/Declaraci%C3%B3n_jurada\n",
      "http://example.org/autorizaci%C3%B3n_notarial_si_es_en_representaci%C3%B3n_de_un_tercero\n",
      "http://example.org/Contrato_Privado_o_Escritura_P%C3%BAblica_Notarial%2C_que_manifieste_la_voluntad_expresa_de_ambas_partes%2C_de_uno_de_ser_reemplazado_y_el_otro_reemplazante\n",
      "http://example.org/autorizaci%C3%B3n_de_representaci%C3%B3n\n",
      "http://example.org/Poder_notarial_que_designa_al_beneficiario\n",
      "http://example.org/poder_de_representaci%C3%B3n_en_caso_de_ser_un_tercero\n",
      "http://example.org/Poder_de_representaci%C3%B3n_en_caso_de_ser_un_tercero_qui%C3%A9n_solicita\n",
      "http://example.org/DOCUMENTO_QUE_ACREDITE_LA_DIRECTIVA_DE_LA_ORGANIZACI%C3%93N_%28_NOTARIAL%29%2C_SI_EL_CERTIFICADO_QUE_ACREDITA_LA_PERSONALIDAD_JURIDICA_NO_LO_INDICA.\n",
      "http://example.org/Declaraci%C3%B3n_jurada_ante_notario%2C_de_posesi%C3%B3n_de_restos%2C_partes_o_derivados_de_especies_protegidas%2C_data_anterior_al_11_de_noviembre_de_1995\n",
      "http://example.org/Acta_Junta_General_que_reform%C3%B3_estatutos_reducida_a_escritura_p%C3%BAblica.\n",
      "http://example.org/Inscripci%C3%B3n_en_el_Registro_del_Conservador_de_Bienes_Ra%C3%ADces\n",
      "http://example.org/Acta_Constitutiva_suscrita_ante_ministro_de_fe_y_estatutos\n",
      "http://example.org/Acta_Junta_General_de_socios_Constitutiva_reducida_a_escritura_p%C3%BAblica\n",
      "http://example.org/Extracto_de_publicaci%C3%B3n_Diario_Oficial\n",
      "http://example.org/Extracto_inscrito_en_el_Registro_del_Conservador_de_Bienes_Ra%C3%ADces\n",
      "http://example.org/Acta_Junta_General_que_acord%C3%B3_la_disoluci%C3%B3n_reducida_a_escritura_p%C3%BAblica.\n",
      "http://example.org/Inscripci%C3%B3n_en_el_Registro_de_Conservadores_de_Bienes_Ra%C3%ADces\n",
      "http://example.org/Acreditar_la_personer%C3%ADa_del_representante_legal\n",
      "http://example.org/Copia_autorizada_de_la_escritura_de_constituci%C3%B3n_de_la_sociedad.\n",
      "http://example.org/Copia_autorizada_de_la_inscripci%C3%B3n_social_en_el_Registro_de_Comercio.\n",
      "http://example.org/Declaraci%C3%B3n_jurada_que_los_bienes_muebles_adjuntados_para_acreditar_el_capital_m%C3%ADnimo_exigido%2C_son_de_su_exclusivo_dominio.\n",
      "http://example.org/Acta_Constitutiva_del_Consejo_de_Administraci%C3%B3n%2C_de_acuerdo_a_lo_dispuesto_en_el_art%C3%ADculo_60%2C_del_reglamento_de_la_Ley_General_de_Cooperativas%2C_debidamente_autorizada_ante_Notario\n",
      "http://example.org/Acta_de_la_Junta_General_de_Socios%2C_debidamente_autorizada_ante_Notario\n",
      "http://example.org/Copia_autorizada_ante_notaria_de_la_inscripci%C3%B3n_del_Extracto_en_el_Registro_de_Comercio_del_Conservador_de_Bienes_Ra%C3%ADces_competente%2C_al_margen_de_la_inscripci%C3%B3n_original\n",
      "http://example.org/Copia_autorizada_de_la_Escritura_P%C3%BAblica_en_la_cual_se_contiene_el_acta_de_la_Junta_General_de_Socios_que_aprob%C3%B3_la_fusi%C3%B3n\n",
      "http://example.org/divisi%C3%B3n_o_transformaci%C3%B3n_de_la_Cooperativa\n",
      "http://example.org/Copia_autorizada_del_extracto_de_la_escritura_antes_se%C3%B1alada\n",
      "http://example.org/Requiere_de_manera_obligatoria_la_firma_notarial_para_los_documentos_complementarios.\n",
      "http://example.org/En_el_caso_de_persona_jur%C3%ADdica%2C_se_requiere_copia_legalizada_de_los_estatutos%2C_sus_modificaciones%2C_si_corresponde\n",
      "http://example.org/En_el_caso_de_terrenos_de_playa%2C_se_requiere_copia_autorizada_de_la_inscripci%C3%B3n_de_dominio_a_nombre_del_fisco%2C_con_certificaci%C3%B3n_de_vigencia\n",
      "http://example.org/Escura_p%C3%BAblica_o_Instrumento_privado_autorizado_ante_notario_en_que_conste_el_acto_jur%C3%ADdico_respectivo%2C_seg%C3%BAn_lo_dispuesto_en_el_art%C3%ADculo_30_de_la_Ley_General_de_Pesca_y_Acuicultura.\n",
      "http://example.org/En_caso_de_persona_jur%C3%ADdica%2C_certificado_de_vigencia%2C_estatutos_%28modificaciones%29.\n",
      "http://example.org/Escritura_p%C3%BAblica_o_Instrumento_privado_autorizado_ante_notario_en_que_conste_el_acto_jur%C3%ADdico_respectivo%2C_seg%C3%BAn_lo_dispuesto_en_el_art%C3%ADculo_30_de_la_Ley_General_de_Pesca_y_Acuicultura.\n",
      "http://example.org/Declaraci%C3%B3n_jurada_notarial_en_la_que_exprese_no_estar_afecto_a_alguna_de_las_inhabilidades_contempladas_en_el_art%C3%ADculo_17_del_Libro_IV_del_C%C3%B3digo_de_Comercio.\n",
      "http://example.org/Declaraci%C3%B3n_jurada_notarial_en_la_que_exprese_no_tener_protestos_de_letras%2C_cheques_o_pagar%C3%A9s.\n",
      "http://example.org/Mandato_o_poder_donde_conste_la_representaci%C3%B3n_de_quien_realiza_la_solicitud_a_nombre_de_la_Pyme\n",
      "http://example.org/Declaraci%C3%B3n_Jurada_de_adhesi%C3%B3n_al_Sistema_de_Mediaci%C3%B3n_y_Arbitraje\n",
      "http://example.org/Declaraci%C3%B3n_Jurada_de_Integridad_de_contratos\n",
      "http://example.org/Declaraci%C3%B3n_jurada_notarial_para_postular_a_%C3%81rbitro_y_Mediador.\n",
      "http://example.org/Declaraci%C3%B3n_jurada%2C_firmada_por_el_o_los_representantes_legales_del_proveedor_solicitante%2C_en_que_se_deje_constancia_de_que_los_antecedentes_aportados_y_la_informaci%C3%B3n_contenida_en_%C3%A9stos%2C_son_ver%C3%ADdicos_y_fidedignos.\n",
      "http://example.org/Declaraci%C3%B3n_jurada_del_representante_legal%2C_en_que_declare%2C_bajo_juramento%2C_que_la_sociedad_no_ha_sido_condenada_por_delitos_indicados_o_infracciones_a_las_normas_contenidas_en_la_Ley_N%C2%B0_20.169%2C_que_regula_la_Competencia_Desleal\n",
      "http://example.org/Declaraci%C3%B3n_jurada_del_representante_legal%2C_en_que_declare%2C_bajo_juramento%2C_que_la_sociedad_realiza_sus_actividades_con_apego_al_principio_de_imparcialidad_descrito_en_la_Circular.\n",
      "http://example.org/Documentaci%C3%B3n_societaria_de_constituci%C3%B3n_y_posibles_modificaciones.\n",
      "http://example.org/Declaraci%C3%B3n_jurada_ante_Notario_del_representante_legal%2C_en_que_declare%2C_bajo_juramento%2C_que_la_sociedad_cumple_con_todos_los_requisitos_se%C3%B1alados.\n",
      "http://example.org/Declaraci%C3%B3n_jurada_firmada_por_el_o_los_representantes_legales_en_que_se_deje_constancia_que_los_antecedentes_aportados.\n",
      "58\n"
     ]
    }
   ],
   "source": [
    "query_instituciones_salud = \"\"\"\n",
    "    SELECT DISTINCT ?documento\n",
    "    WHERE {\n",
    "        ?ministerio rdf:type ex:Ministerio.\n",
    "        ?ministerio ex:tieneInstitucion ?institucion .\n",
    "        ?institucion rdf:type ex:Institucion .\n",
    "        ?institucion ex:realizaTramite ?tramite.\n",
    "        ?tramite ex:requiereDocumento ?documento.\n",
    "        \n",
    "        FILTER (?ministerio = ex:Ministerio_de_Econom%C3%ADa%2C_Fomento_y_Turismo)\n",
    "    }\n",
    "\"\"\"\n",
    "# Preparar la consulta\n",
    "query_instituciones_salud = prepareQuery(query_instituciones_salud, initNs={\"rdf\": RDF, \"ex\": ex})\n",
    "\n",
    "# Ejecutar la consulta en el grafo RDF\n",
    "result_instituciones_salud = g.query(query_instituciones_salud)\n",
    "\n",
    "# Imprimir los resultados\n",
    "print(\"requisitos asociadas al Ministerio de Hacienda:\")\n",
    "j=0\n",
    "for row in result_instituciones_salud:\n",
    "    j+=1    \n",
    "    print(row.documento)\n",
    "print(j)"
   ]
  },
  {
   "cell_type": "markdown",
   "id": "95f3caf8",
   "metadata": {},
   "source": [
    "### Número de requisitos distintos"
   ]
  },
  {
   "cell_type": "code",
   "execution_count": 29,
   "id": "41a33572",
   "metadata": {
    "scrolled": true
   },
   "outputs": [
    {
     "name": "stdout",
     "output_type": "stream",
     "text": [
      "Número de documentos distintos: 365\n",
      "Número de certificados distintos: 93\n",
      "1\n",
      "Tiempo de ejecución: 0.0 segundos\n"
     ]
    }
   ],
   "source": [
    "ex = Namespace(\"http://example.org/\")\n",
    "# Definir la consulta SPARQL\n",
    "query = prepareQuery(\"\"\"\n",
    "    PREFIX ex: <http://example.org/>\n",
    "\n",
    "    SELECT (COUNT(DISTINCT ?documento) AS ?numDocumentos) (COUNT(DISTINCT ?certificado) AS ?numCertificados)\n",
    "    WHERE {\n",
    "      ?tramite rdf:type ex:Tramite.\n",
    "      OPTIONAL { ?tramite ex:requiereDocumento ?documento. }\n",
    "      OPTIONAL { ?tramite ex:requiereCertificado ?certificado. }\n",
    "    }\n",
    "\"\"\", initNs={\"ex\": ex})\n",
    "start_time = time.time()\n",
    "\n",
    "# Ejecutar la consulta y obtener los resultados\n",
    "resultados = g.query(query)\n",
    "\n",
    "# Detener temporizador y calcular tiempo transcurrido\n",
    "end_time = time.time()\n",
    "\n",
    "elapsed_time = end_time - start_time\n",
    "# Mostrar los resultados\n",
    "for resultado in resultados:\n",
    "    num_documentos = resultado[0]\n",
    "    num_certificados = resultado[1]\n",
    "    print(\"Número de documentos distintos:\", num_documentos)\n",
    "    print(\"Número de certificados distintos:\", num_certificados)\n",
    "    \n",
    "print(\"Tiempo de ejecución:\", elapsed_time, \"segundos\")"
   ]
  },
  {
   "cell_type": "markdown",
   "id": "cbb32ae8",
   "metadata": {},
   "source": [
    "## requisitos asociados a cierto tramite"
   ]
  },
  {
   "cell_type": "code",
   "execution_count": 129,
   "id": "87c7a076",
   "metadata": {},
   "outputs": [
    {
     "name": "stdout",
     "output_type": "stream",
     "text": [
      "requisitos asociadas al Ministerio de Hacienda:\n",
      "http://example.org/Garant%C3%ADa_Notarial_%28letra_de_cambio%2C_pagar%C3%A9%29\n",
      "1\n"
     ]
    }
   ],
   "source": [
    "query_instituciones_salud = \"\"\"\n",
    "    SELECT DISTINCT ?documento\n",
    "    WHERE {\n",
    "        ?ministerio rdf:type ex:Ministerio.\n",
    "        ?ministerio ex:tieneInstitucion ?institucion .\n",
    "        ?institucion rdf:type ex:Institucion .\n",
    "        ?institucion ex:realizaTramite ?tramite.\n",
    "        ?tramite ex:requiereDocumento ?documento.\n",
    "        \n",
    "        FILTER (?tramite = ex:Postulaci%C3%B3n_al_fondo_al_fomento_de_medios_de_comunicaci%C3%B3n)\n",
    "    }\n",
    "\"\"\"\n",
    "# Preparar la consulta\n",
    "query_instituciones_salud = prepareQuery(query_instituciones_salud, initNs={\"rdf\": RDF, \"ex\": ex})\n",
    "\n",
    "# Ejecutar la consulta en el grafo RDF\n",
    "result_instituciones_salud = g.query(query_instituciones_salud)\n",
    "\n",
    "# Imprimir los resultados\n",
    "print(\"requisitos asociadas al Ministerio de Hacienda:\")\n",
    "j=0\n",
    "for row in result_instituciones_salud:\n",
    "    j+=1    \n",
    "    print(row.documento)\n",
    "print(j)"
   ]
  },
  {
   "cell_type": "markdown",
   "id": "102796da",
   "metadata": {},
   "source": [
    "# ----------------------\n",
    "# Modificaciones al grafo\n",
    "# ----------------------"
   ]
  },
  {
   "cell_type": "markdown",
   "id": "11e42e56",
   "metadata": {},
   "source": [
    "### Consultar si se agregó el nuevo nodo"
   ]
  },
  {
   "cell_type": "code",
   "execution_count": 93,
   "id": "41f60cb9",
   "metadata": {},
   "outputs": [],
   "source": [
    "ex = Namespace(\"http://example.org/\")\n",
    "\n",
    "# Definir la consulta SPARQL para obtener la información de una institución específica\n",
    "query = prepareQuery(\"\"\"\n",
    "    PREFIX ex: <http://example.org/>\n",
    "\n",
    "    SELECT ?institucion ?tramite\n",
    "    WHERE {\n",
    "        ?institucion rdf:type ex:Institucion .\n",
    "        ?institucion ex:tieneNuevoNodo ?tramite .\n",
    "        FILTER(?institucion = ex:Servicio_Nacional_de_Aduanas)  # Filtrar por la institución específica\n",
    "    }\n",
    "\"\"\", initNs={\"ex\": ex})\n",
    "\n",
    "# Ejecutar la consulta\n",
    "results = g.query(query)\n",
    "\n",
    "# Imprimir los resultados\n",
    "for row in results:\n",
    "    print(row)"
   ]
  },
  {
   "cell_type": "markdown",
   "id": "1ec2e783",
   "metadata": {},
   "source": [
    "## Agregar un nuevo nodo a cada institucion"
   ]
  },
  {
   "cell_type": "code",
   "execution_count": 115,
   "id": "5de64ca9",
   "metadata": {
    "collapsed": true
   },
   "outputs": [
    {
     "name": "stdout",
     "output_type": "stream",
     "text": [
      "Tiempo de ejecución: 0.004982948303222656 segundos\n",
      "(rdflib.term.URIRef('http://example.org/Subsecretar%C3%ADa_de_Transportes'),)\n",
      "(rdflib.term.URIRef('http://example.org/Servicio_Nacional_de_Aduanas'),)\n",
      "(rdflib.term.URIRef('http://example.org/Subsecretar%C3%ADa_de_las_Culturas_y_las_Artes'),)\n",
      "(rdflib.term.URIRef('http://example.org/Consejo_de_Defensa_del_Estado'),)\n",
      "(rdflib.term.URIRef('http://example.org/Direcci%C3%B3n_de_Compras_y_Contrataci%C3%B3n_P%C3%BAblica'),)\n",
      "(rdflib.term.URIRef('http://example.org/Corporaci%C3%B3n_Nacional_de_Desarrollo_Ind%C3%ADgena'),)\n",
      "(rdflib.term.URIRef('http://example.org/Corporaci%C3%B3n_Nacional_Forestal_y_de_Protecci%C3%B3n_de_Recursos_Naturales_Renovables'),)\n",
      "(rdflib.term.URIRef('http://example.org/Corporaci%C3%B3n_de_Fomento_de_la_Producci%C3%B3n'),)\n",
      "(rdflib.term.URIRef('http://example.org/Direcci%C3%B3n_General_de_Aeron%C3%A1utica_Civil'),)\n",
      "(rdflib.term.URIRef('http://example.org/Direcci%C3%B3n_General_de_Obras_P%C3%BAblicas'),)\n",
      "(rdflib.term.URIRef('http://example.org/Servicio_Nacional_del_Patrimonio_Cultural'),)\n",
      "(rdflib.term.URIRef('http://example.org/Direcci%C3%B3n_General_del_Cr%C3%A9dito_Prendario'),)\n",
      "(rdflib.term.URIRef('http://example.org/Direcci%C3%B3n_General_de_Aguas'),)\n",
      "(rdflib.term.URIRef('http://example.org/Direcci%C3%B3n_de_Arquitectura'),)\n",
      "(rdflib.term.URIRef('http://example.org/Direcci%C3%B3n_de_Obras_Hidr%C3%A1ulicas'),)\n",
      "(rdflib.term.URIRef('http://example.org/Direcci%C3%B3n_del_Trabajo'),)\n",
      "(rdflib.term.URIRef('http://example.org/Fiscal%C3%ADa_Nacional_Econ%C3%B3mica'),)\n",
      "(rdflib.term.URIRef('http://example.org/Fondo_de_Solidaridad_e_Inversi%C3%B3n_Social'),)\n",
      "(rdflib.term.URIRef('http://example.org/Gendarmer%C3%ADa_de_Chile'),)\n",
      "(rdflib.term.URIRef('http://example.org/Instituto_Ant%C3%A1rtico_Chileno'),)\n",
      "(rdflib.term.URIRef('http://example.org/Instituto_Nacional_de_Propiedad_Industrial'),)\n",
      "(rdflib.term.URIRef('http://example.org/Instituto_Nacional_de_Deportes_de_Chile'),)\n",
      "(rdflib.term.URIRef('http://example.org/Instituto_de_Desarrollo_Agropecuario'),)\n",
      "(rdflib.term.URIRef('http://example.org/Instituto_de_Salud_P%C3%BAblica_de_Chile'),)\n",
      "(rdflib.term.URIRef('http://example.org/Junta_de_Aeron%C3%A1utica_Civil'),)\n",
      "(rdflib.term.URIRef('http://example.org/Junta_Nacional_de_Auxilio_Escolar_y_Becas'),)\n",
      "(rdflib.term.URIRef('http://example.org/Junta_Nacional_de_Jardines_Infantiles'),)\n",
      "(rdflib.term.URIRef('http://example.org/Subsecretar%C3%ADa_de_la_Ni%C3%B1ez'),)\n",
      "(rdflib.term.URIRef('http://example.org/Subsecretar%C3%ADa_de_Educaci%C3%B3n'),)\n",
      "(rdflib.term.URIRef('http://example.org/Subsecretar%C3%ADa_de_Energ%C3%ADa'),)\n",
      "(rdflib.term.URIRef('http://example.org/Superintendencia_de_Electricidad_y_Combustibles'),)\n",
      "(rdflib.term.URIRef('http://example.org/Subsecretar%C3%ADa_de_Justicia'),)\n",
      "(rdflib.term.URIRef('http://example.org/Comisi%C3%B3n_para_el_Mercado_Financiero'),)\n",
      "(rdflib.term.URIRef('http://example.org/Subsecretar%C3%ADa_de_Relaciones_Exteriores'),)\n",
      "(rdflib.term.URIRef('http://example.org/Subsecretar%C3%ADa_del_Medio_Ambiente'),)\n",
      "(rdflib.term.URIRef('http://example.org/Servicio_Agr%C3%ADcola_y_Ganadero'),)\n",
      "(rdflib.term.URIRef('http://example.org/Servicio_de_Evaluaci%C3%B3n_Ambiental'),)\n",
      "(rdflib.term.URIRef('http://example.org/Servicio_Nacional_de_la_Discapacidad'),)\n",
      "(rdflib.term.URIRef('http://example.org/Servicio_Nacional_del_Adulto_Mayor'),)\n",
      "(rdflib.term.URIRef('http://example.org/Servicio_Nacional_de_Menores'),)\n",
      "(rdflib.term.URIRef('http://example.org/Servicio_de_Cooperaci%C3%B3n_T%C3%A9cnica'),)\n",
      "(rdflib.term.URIRef('http://example.org/Servicio_Nacional_de_Geolog%C3%ADa_y_Miner%C3%ADa'),)\n",
      "(rdflib.term.URIRef('http://example.org/Servicio_Nacional_de_la_Mujer_y_la_Equidad_de_G%C3%A9nero'),)\n",
      "(rdflib.term.URIRef('http://example.org/Servicio_Nacional_de_Pesca_y_Acuicultura'),)\n",
      "(rdflib.term.URIRef('http://example.org/Superintendencia_de_Servicios_Sanitarios'),)\n",
      "(rdflib.term.URIRef('http://example.org/Superintendencia_de_Pensiones'),)\n",
      "(rdflib.term.URIRef('http://example.org/Servicio_de_Registro_Civil_e_Identificaci%C3%B3n'),)\n",
      "(rdflib.term.URIRef('http://example.org/Superintendencia_de_Salud'),)\n",
      "(rdflib.term.URIRef('http://example.org/Subsecretar%C3%ADa_para_las_Fuerzas_Armadas'),)\n",
      "(rdflib.term.URIRef('http://example.org/Subsecretar%C3%ADa_de_Econom%C3%ADa_y_Empresas_de_Menor_Tama%C3%B1o'),)\n",
      "(rdflib.term.URIRef('http://example.org/Subsecretar%C3%ADa_de_Hacienda'),)\n",
      "(rdflib.term.URIRef('http://example.org/Subsecretar%C3%ADa_de_Pesca_y_Acuicultura'),)\n",
      "(rdflib.term.URIRef('http://example.org/Subsecretar%C3%ADa_del_Interior'),)\n",
      "(rdflib.term.URIRef('http://example.org/Subsecretar%C3%ADa_de_Telecomunicaciones'),)\n",
      "(rdflib.term.URIRef('http://example.org/Superintendencia_de_Seguridad_Social'),)\n",
      "(rdflib.term.URIRef('http://example.org/Tesorer%C3%ADa_General_de_La_Rep%C3%BAblica'),)\n",
      "(rdflib.term.URIRef('http://example.org/Direcci%C3%B3n_de_Vialidad'),)\n",
      "(rdflib.term.URIRef('http://example.org/Direcci%C3%B3n_de_Aeropuertos'),)\n",
      "(rdflib.term.URIRef('http://example.org/Servicio_Nacional_de_Turismo'),)\n",
      "(rdflib.term.URIRef('http://example.org/Superintendencia_de_Insolvencia_y_Reemprendimiento'),)\n",
      "(rdflib.term.URIRef('http://example.org/Subsecretar%C3%ADa_del_Trabajo'),)\n",
      "(rdflib.term.URIRef('http://example.org/Fondo_Nacional_de_Salud'),)\n",
      "(rdflib.term.URIRef('http://example.org/Subsecretar%C3%ADa_de_Bienes_Nacionales'),)\n",
      "(rdflib.term.URIRef('http://example.org/Servicio_Nacional_del_Consumidor'),)\n",
      "(rdflib.term.URIRef('http://example.org/Direcci%C3%B3n_de_Previsi%C3%B3n_de_Carabineros_de_Chile'),)\n",
      "(rdflib.term.URIRef('http://example.org/Servicio_Nacional_de_Capacitaci%C3%B3n_y_Empleo'),)\n",
      "(rdflib.term.URIRef('http://example.org/Instituto_de_Seguridad_Laboral'),)\n",
      "(rdflib.term.URIRef('http://example.org/Subsecretar%C3%ADa_de_Vivienda_y_Urbanismo'),)\n",
      "(rdflib.term.URIRef('http://example.org/Instituto_de_Previsi%C3%B3n_Social'),)\n",
      "(rdflib.term.URIRef('http://example.org/Superintendencia_de_Casinos_de_Juego'),)\n",
      "(rdflib.term.URIRef('http://example.org/Agencia_Chilena_de_Cooperaci%C3%B3n_Internacional_para_el_Desarrollo'),)\n",
      "(rdflib.term.URIRef('http://example.org/Parque_Metropolitano_de_Santiago'),)\n",
      "(rdflib.term.URIRef('http://example.org/Consejo_Nacional_de_Educaci%C3%B3n'),)\n",
      "(rdflib.term.URIRef('http://example.org/Superintendencia_de_Educaci%C3%B3n'),)\n",
      "(rdflib.term.URIRef('http://example.org/Subsecretar%C3%ADa_de_Prevenci%C3%B3n_del_Delito'),)\n",
      "(rdflib.term.URIRef('http://example.org/Subsecretar%C3%ADa_de_Previsi%C3%B3n_Social'),)\n",
      "(rdflib.term.URIRef('http://example.org/Direcci%C3%B3n_Nacional_de_Fronteras_y_L%C3%ADmites_del_Estado'),)\n",
      "(rdflib.term.URIRef('http://example.org/Direcci%C3%B3n_de_Contabilidad_y_Finanzas'),)\n",
      "(rdflib.term.URIRef('http://example.org/Subsecretar%C3%ADa_de_Agricultura'),)\n",
      "(rdflib.term.URIRef('http://example.org/Comisi%C3%B3n_Nacional_de_Riego'),)\n",
      "(rdflib.term.URIRef('http://example.org/Subsecretar%C3%ADa_de_Servicios_Sociales'),)\n",
      "(rdflib.term.URIRef('http://example.org/Comisi%C3%B3n_Chilena_de_Energ%C3%ADa_Nuclear'),)\n",
      "(rdflib.term.URIRef('http://example.org/Subsecretar%C3%ADa_de_Evaluaci%C3%B3n_Social'),)\n",
      "(rdflib.term.URIRef('http://example.org/Agencia_Nacional_de_Investigaci%C3%B3n_y_Desarrollo'),)\n",
      "(rdflib.term.URIRef('http://example.org/Agencia_de_Promoci%C3%B3n_de_la_Inversi%C3%B3n_Extranjera'),)\n",
      "(rdflib.term.URIRef('http://example.org/Caja_de_Previsi%C3%B3n_de_la_Defensa_Nacional'),)\n",
      "(rdflib.term.URIRef('http://example.org/Consejo_Nacional_de_Televisi%C3%B3n'),)\n",
      "(rdflib.term.URIRef('http://example.org/Central_de_Abastecimiento_del_Sistema_Nacional_de_Servicios_de_Salud'),)\n",
      "(rdflib.term.URIRef('http://example.org/Comisi%C3%B3n_Chilena_del_Cobre'),)\n",
      "(rdflib.term.URIRef('http://example.org/Defensor%C3%ADa_Penal_P%C3%BAblica'),)\n",
      "(rdflib.term.URIRef('http://example.org/Subsecretar%C3%ADa_de_Relaciones_Econ%C3%B3micas_Internacionales'),)\n",
      "(rdflib.term.URIRef('http://example.org/Direcci%C3%B3n_Nacional_del_Servicio_Civil'),)\n",
      "(rdflib.term.URIRef('http://example.org/Gobierno_Regional_de_Tarapac%C3%A1'),)\n",
      "(rdflib.term.URIRef('http://example.org/Gobierno_Regional_de_Antofagasta'),)\n",
      "(rdflib.term.URIRef('http://example.org/Gobierno_Regional_de_Atacama'),)\n",
      "(rdflib.term.URIRef('http://example.org/Gobierno_Regional_de_Coquimbo'),)\n",
      "(rdflib.term.URIRef('http://example.org/Gobierno_Regional_de_La_Araucan%C3%ADa'),)\n",
      "(rdflib.term.URIRef('http://example.org/Gobierno_Regional_Metropolitano_de_Santiago'),)\n",
      "(rdflib.term.URIRef('http://example.org/Gobierno_Regional_de_Valpara%C3%ADso'),)\n",
      "(rdflib.term.URIRef('http://example.org/Gobierno_Regional_del_Libertador_Bernardo_O%27Higgins'),)\n",
      "(rdflib.term.URIRef('http://example.org/Gobierno_Regional_del_Maule'),)\n",
      "(rdflib.term.URIRef('http://example.org/Gobierno_Regional_del_Biob%C3%ADo'),)\n",
      "(rdflib.term.URIRef('http://example.org/Gobierno_Regional_de_Los_Lagos'),)\n",
      "(rdflib.term.URIRef('http://example.org/Gobierno_Regional_de_Ays%C3%A9n'),)\n",
      "(rdflib.term.URIRef('http://example.org/Gobierno_Regional_de_Magallanes_y_de_la_Ant%C3%A1rtica_Chilena'),)\n",
      "(rdflib.term.URIRef('http://example.org/Gobierno_Regional_de_Los_R%C3%ADos'),)\n",
      "(rdflib.term.URIRef('http://example.org/Gobierno_Regional_de_Arica_y_Parinacota'),)\n",
      "(rdflib.term.URIRef('http://example.org/Instituto_Nacional_de_la_Juventud'),)\n",
      "(rdflib.term.URIRef('http://example.org/Oficina_de_Estudios_y_Pol%C3%ADticas_Agrarias'),)\n",
      "(rdflib.term.URIRef('http://example.org/Subsecretar%C3%ADa_General_de_Gobierno'),)\n",
      "(rdflib.term.URIRef('http://example.org/Servicio_M%C3%A9dico_Legal'),)\n",
      "(rdflib.term.URIRef('http://example.org/Servicio_Nacional_para_la_Prevenci%C3%B3n_y_Rehabilitaci%C3%B3n_del_Consumo_de_Drogas_y_Alcohol'),)\n",
      "(rdflib.term.URIRef('http://example.org/Subsecretar%C3%ADa_del_Deporte'),)\n",
      "(rdflib.term.URIRef('http://example.org/Superintendencia_del_Medio_Ambiente'),)\n",
      "(rdflib.term.URIRef('http://example.org/Subsecretar%C3%ADa_de_Desarrollo_Regional_y_Administrativo'),)\n",
      "(rdflib.term.URIRef('http://example.org/Servicio_de_Gobierno_Interior_de_la_Rep%C3%BAblica'),)\n",
      "(rdflib.term.URIRef('http://example.org/Subsecretar%C3%ADa_de_Redes_Asistenciales'),)\n",
      "(rdflib.term.URIRef('http://example.org/Unidad_de_An%C3%A1lisis_Financiero'),)\n",
      "(rdflib.term.URIRef('http://example.org/Subsecretar%C3%ADa_de_Derechos_Humanos'),)\n",
      "(rdflib.term.URIRef('http://example.org/Subsecretar%C3%ADa_de_Educaci%C3%B3n_Parvularia'),)\n",
      "(rdflib.term.URIRef('http://example.org/Gobierno_Regional_de_%C3%91uble'),)\n",
      "(rdflib.term.URIRef('http://example.org/Servicio_Hidrogr%C3%A1fico_y_Oceanogr%C3%A1fico_de_La_Armada_de_Chile'),)\n",
      "(rdflib.term.URIRef('http://example.org/Servicio_Electoral'),)\n",
      "(rdflib.term.URIRef('http://example.org/Polic%C3%ADa_de_Investigaciones_de_Chile'),)\n",
      "(rdflib.term.URIRef('http://example.org/Fundaci%C3%B3n_para_la_Innovaci%C3%B3n_Agraria'),)\n",
      "(rdflib.term.URIRef('http://example.org/Fundaci%C3%B3n_de_Comunicaciones%2C_Capacitaci%C3%B3n_y_Cultura_del_Agro'),)\n",
      "(rdflib.term.URIRef('http://example.org/Fuerza_A%C3%A9rea_de_Chile'),)\n",
      "(rdflib.term.URIRef('http://example.org/Direcci%C3%B3n_General_del_Territorio_Mar%C3%ADtimo_y_de_Marina_Mercante'),)\n",
      "(rdflib.term.URIRef('http://example.org/Direcci%C3%B3n_General_de_Movilizaci%C3%B3n_Nacional'),)\n",
      "(rdflib.term.URIRef('http://example.org/Defensa_Civil_de_Chile'),)\n",
      "(rdflib.term.URIRef('http://example.org/Corporaci%C3%B3n_de_Asistencia_Judicial_de_la_Regi%C3%B3n_Metropolitana'),)\n",
      "(rdflib.term.URIRef('http://example.org/Conservador_de_Bienes_Ra%C3%ADces_de_Santiago'),)\n",
      "(rdflib.term.URIRef('http://example.org/Consejo_de_Calificaci%C3%B3n_Cinematogr%C3%A1fica'),)\n",
      "(rdflib.term.URIRef('http://example.org/Comisi%C3%B3n_Administradora_del_Sistema_de_Cr%C3%A9ditos_para_Estudios_Superiores'),)\n",
      "(rdflib.term.URIRef('http://example.org/Agencia_de_Sustentabilidad_y_Cambio_Clim%C3%A1tico'),)\n",
      "(rdflib.term.URIRef('http://example.org/Instituto_de_Investigaciones_Agropecuarias'),)\n",
      "(rdflib.term.URIRef('http://example.org/Centro_de_Informaci%C3%B3n_de_Recursos_Naturales'),)\n",
      "(rdflib.term.URIRef('http://example.org/Comisi%C3%B3n_Nacional_de_Acreditaci%C3%B3n'),)\n",
      "(rdflib.term.URIRef('http://example.org/Corporaci%C3%B3n_de_Asistencia_Judicial_de_la_Regi%C3%B3n_del_Biob%C3%ADo'),)\n",
      "(rdflib.term.URIRef('http://example.org/Corporaci%C3%B3n_de_Asistencia_Judicial_de_la_Regi%C3%B3n_de_Valpara%C3%ADso'),)\n",
      "(rdflib.term.URIRef('http://example.org/Corporaci%C3%B3n_de_Asistencia_Judicial_de_las_Regiones_de_Tarapac%C3%A1_y_Antofagasta'),)\n",
      "(rdflib.term.URIRef('http://example.org/Direcci%C3%B3n_General_de_Promoci%C3%B3n_de_Exportaciones'),)\n",
      "(rdflib.term.URIRef('http://example.org/Agencia_de_Calidad_de_la_Educaci%C3%B3n'),)\n",
      "(rdflib.term.URIRef('http://example.org/Servicio_de_Salud_Talcahuano'),)\n",
      "(rdflib.term.URIRef('http://example.org/Servicio_de_Salud_Antofagasta'),)\n",
      "(rdflib.term.URIRef('http://example.org/Servicio_de_Salud_Maule'),)\n",
      "(rdflib.term.URIRef('http://example.org/Servicio_de_Salud_Chilo%C3%A9'),)\n",
      "(rdflib.term.URIRef('http://example.org/Servicio_de_Salud_Araucan%C3%ADa_Norte'),)\n",
      "(rdflib.term.URIRef('http://example.org/Servicio_de_Salud_Aconcagua'),)\n",
      "(rdflib.term.URIRef('http://example.org/Servicio_de_Salud_Concepci%C3%B3n'),)\n",
      "(rdflib.term.URIRef('http://example.org/Agroseguros_'),)\n",
      "(rdflib.term.URIRef('http://example.org/Servicio_de_Salud_Ays%C3%A9n'),)\n",
      "(rdflib.term.URIRef('http://example.org/Servicio_de_Salud_Metropolitano_Occidente'),)\n",
      "(rdflib.term.URIRef('http://example.org/Servicio_de_Salud_Libertador_General_Bernardo_O%27Higgins'),)\n",
      "(rdflib.term.URIRef('http://example.org/Comisi%C3%B3n_Nacional_de_Energ%C3%ADa'),)\n",
      "(rdflib.term.URIRef('http://example.org/Servicio_de_Salud_Arica'),)\n",
      "(rdflib.term.URIRef('http://example.org/Servicio_de_Impuestos_Internos'),)\n",
      "(rdflib.term.URIRef('http://example.org/Servicio_de_Salud_Metropolitano_Sur'),)\n",
      "(rdflib.term.URIRef('http://example.org/Servicio_de_Salud_Biob%C3%ADo'),)\n",
      "(rdflib.term.URIRef('http://example.org/Instituto_Nacional_de_Derechos_Humanos'),)\n",
      "(rdflib.term.URIRef('http://example.org/Direcci%C3%B3n_de_Educaci%C3%B3n_P%C3%BAblica'),)\n",
      "(rdflib.term.URIRef('http://example.org/Servicio_de_Salud_Osorno'),)\n",
      "(rdflib.term.URIRef('http://example.org/Carabineros_de_Chile'),)\n",
      "(rdflib.term.URIRef('http://example.org/Servicio_de_Salud_Metropolitano_Oriente'),)\n",
      "(rdflib.term.URIRef('http://example.org/Subsecretar%C3%ADa_de_Salud_P%C3%BAblica'),)\n",
      "(rdflib.term.URIRef('http://example.org/Servicio_de_Salud_Metropolitano_Sur_Oriente'),)\n",
      "(rdflib.term.URIRef('http://example.org/Comisi%C3%B3n_del_Sistema_Nacional_de_Certificaci%C3%B3n_de_Competencias_Laborales'),)\n",
      "(rdflib.term.URIRef('http://example.org/Comisi%C3%B3n_de_Medicina_Preventiva_e_Invalidez'),)\n",
      "(rdflib.term.URIRef('http://example.org/Subsecretar%C3%ADa_de_Educaci%C3%B3n_Superior'),)\n",
      "(rdflib.term.URIRef('http://example.org/Contralor%C3%ADa_General_de_la_Rep%C3%BAblica'),)\n",
      "(rdflib.term.URIRef('http://example.org/Instituto_Geogr%C3%A1fico_Militar'),)\n",
      "(rdflib.term.URIRef('http://example.org/Consejo_de_Rectores_de_las_Universidades_Chilenas'),)\n",
      "(rdflib.term.URIRef('http://example.org/Superintendencia_de_Educaci%C3%B3n_Superior'),)\n",
      "(rdflib.term.URIRef('http://example.org/Subsecretar%C3%ADa_de_Ciencia%2C_Tecnolog%C3%ADa%2C_Conocimiento_e_Innovaci%C3%B3n'),)\n",
      "(rdflib.term.URIRef('http://example.org/Armada_de_Chile'),)\n",
      "(rdflib.term.URIRef('http://example.org/Ej%C3%A9rcito_de_Chile'),)\n",
      "(rdflib.term.URIRef('http://example.org/Servicio_Nacional_de_Protecci%C3%B3n_Especializada_a_la_Ni%C3%B1ez_y_Adolescencia'),)\n",
      "(rdflib.term.URIRef('http://example.org/Servicio_Nacional_de_Migraciones'),)\n",
      "(rdflib.term.URIRef('http://example.org/Servicio_Local_de_Educaci%C3%B3n_P%C3%BAblica_de_Huasco'),)\n",
      "(rdflib.term.URIRef('http://example.org/Subsecretar%C3%ADa_de_Miner%C3%ADa'),)\n"
     ]
    }
   ],
   "source": [
    "from rdflib import Graph, Namespace, URIRef\n",
    "from rdflib.namespace import RDF\n",
    "\n",
    "start_time = time.time()\n",
    "# Definir el prefijo y el espacio de nombres\n",
    "# Definir la consulta SPARQL para seleccionar todos los sujetos de un cierto tipo\n",
    "query = \"\"\"\n",
    "    PREFIX ex: <http://example.org/>\n",
    "    SELECT ?institucion\n",
    "    WHERE {\n",
    "        ?institucion rdf:type ex:Institucion.\n",
    "    }\n",
    "\"\"\"\n",
    "# Ejecutar la consulta SPARQL\n",
    "result = g.query(query)\n",
    "end_time = time.time()\n",
    "\n",
    "elapsed_time = end_time - start_time\n",
    "print(\"Tiempo de ejecución:\", elapsed_time, \"segundos\")\n",
    "for row in result:\n",
    "    print(row)"
   ]
  },
  {
   "cell_type": "code",
   "execution_count": 90,
   "id": "1478c44c",
   "metadata": {},
   "outputs": [
    {
     "name": "stdout",
     "output_type": "stream",
     "text": [
      "Tiempo de ejecución: 0.005983591079711914 segundos\n"
     ]
    }
   ],
   "source": [
    "start_time = time.time()\n",
    "\n",
    "# Recorrer los resultados y agregar un nuevo nodo a cada uno\n",
    "for row in result:\n",
    "    # Obtener el sujeto de la fila\n",
    "    sujeto = row[0]\n",
    "    \n",
    "    # Agregar el nuevo nodo al sujeto\n",
    "    nuevo_nodo = URIRef(\"http://example.org/NuevoNodo\")\n",
    "    g.add((sujeto, ex.tieneNuevoNodo, ex.nuevo_nodo))\n",
    "    g.add((ex.nuevo_nodo, RDF.type, ex.newnodo))\n",
    "end_time = time.time()\n",
    "elapsed_time = end_time - start_time\n",
    "print(\"Tiempo de ejecución:\", elapsed_time, \"segundos\")"
   ]
  },
  {
   "cell_type": "markdown",
   "id": "f8a873b5",
   "metadata": {},
   "source": [
    "### eliminar nuevo nodo en institución"
   ]
  },
  {
   "cell_type": "code",
   "execution_count": 92,
   "id": "3ee98579",
   "metadata": {},
   "outputs": [
    {
     "name": "stdout",
     "output_type": "stream",
     "text": [
      "Tiempo de ejecución: 0.0040130615234375 segundos\n"
     ]
    }
   ],
   "source": [
    "#V2\n",
    "# Importar la librería time\n",
    "import time\n",
    "\n",
    "# Marcar el tiempo de inicio\n",
    "start_time = time.time()\n",
    "\n",
    "# Definir la consulta SPARQL para seleccionar los nodos adicionales\n",
    "query = \"\"\"\n",
    "    PREFIX ex: <http://example.org/>\n",
    "    SELECT ?nuevo_nodo\n",
    "    WHERE {\n",
    "        ?nuevo_nodo rdf:type ex:newnodo.\n",
    "    }\n",
    "\"\"\"\n",
    "\n",
    "# Ejecutar la consulta SPARQL\n",
    "result = g.query(query)\n",
    "\n",
    "# Recorrer los resultados y eliminar los nodos adicionales\n",
    "for row in result:\n",
    "    g.remove((row[0], None, None))  # Eliminar todas las tripletas con el nodo como sujeto\n",
    "    g.remove((None, None, row[0]))  # Eliminar todas las tripletas con el nodo como objeto\n",
    "\n",
    "# Marcar el tiempo de finalización y calcular el tiempo transcurrido\n",
    "end_time = time.time()\n",
    "elapsed_time = end_time - start_time\n",
    "print(\"Tiempo de ejecución:\", elapsed_time, \"segundos\")\n"
   ]
  },
  {
   "cell_type": "markdown",
   "id": "8f30e322",
   "metadata": {},
   "source": [
    "## Agregar nuevo nodo a cada tramite"
   ]
  },
  {
   "cell_type": "code",
   "execution_count": 125,
   "id": "27032621",
   "metadata": {},
   "outputs": [
    {
     "name": "stdout",
     "output_type": "stream",
     "text": [
      "Tiempo de ejecución: 0.004987478256225586 segundos\n"
     ]
    }
   ],
   "source": [
    "start_time = time.time()\n",
    "# Definir el prefijo y el espacio de nombres\n",
    "# Definir la consulta SPARQL para seleccionar todos los sujetos de un cierto tipo\n",
    "query = \"\"\"\n",
    "    PREFIX ex: <http://example.org/>\n",
    "    SELECT ?tramite\n",
    "    WHERE {\n",
    "        ?tramite rdf:type ex:Tramite.\n",
    "    }\n",
    "\"\"\"\n",
    "# Ejecutar la consulta SPARQL\n",
    "resulttramite = g.query(query)\n",
    "end_time = time.time()\n",
    "\n",
    "elapsed_time = end_time - start_time\n",
    "print(\"Tiempo de ejecución:\", elapsed_time, \"segundos\")"
   ]
  },
  {
   "cell_type": "code",
   "execution_count": 126,
   "id": "0bc6baa1",
   "metadata": {},
   "outputs": [
    {
     "name": "stdout",
     "output_type": "stream",
     "text": [
      "Tiempo de ejecución: 0.16064238548278809 segundos\n"
     ]
    }
   ],
   "source": [
    "start_time = time.time()\n",
    "\n",
    "# Recorrer los resultados y agregar un nuevo nodo a cada uno\n",
    "for row in resulttramite:\n",
    "    # Obtener el sujeto de la fila\n",
    "    sujeto = row[0]\n",
    "    \n",
    "    # Agregar el nuevo nodo al sujeto\n",
    "    nuevo_nodo = URIRef(\"http://example.org/NuevoNodo\")\n",
    "    g.add((sujeto, ex.requiereDocumento, nuevo_nodo))\n",
    "    g.add((nuevo_nodo, RDF.type, ex.Documento))\n",
    "end_time = time.time()\n",
    "elapsed_time = end_time - start_time\n",
    "print(\"Tiempo de ejecución:\", elapsed_time, \"segundos\")"
   ]
  },
  {
   "cell_type": "markdown",
   "id": "da5dc353",
   "metadata": {},
   "source": [
    "### eliminar nuevo nodo en tramite"
   ]
  },
  {
   "cell_type": "code",
   "execution_count": 128,
   "id": "21184211",
   "metadata": {},
   "outputs": [
    {
     "name": "stdout",
     "output_type": "stream",
     "text": [
      "Tiempo de ejecución: 0.04744315147399902 segundos\n"
     ]
    }
   ],
   "source": [
    "#V2\n",
    "# Importar la librería time\n",
    "import time\n",
    "nuevo_nodo = URIRef(\"http://example.org/NuevoNodo\")\n",
    "\n",
    "# Marcar el tiempo de inicio\n",
    "start_time = time.time()\n",
    "\n",
    "# Definir la consulta SPARQL para seleccionar los nodos adicionales\n",
    "query = \"\"\"\n",
    "    PREFIX ex: <http://example.org/>\n",
    "    SELECT ?nuevonodo\n",
    "    WHERE {\n",
    "        ?nuevonodo rdf:type ex:Documento .\n",
    "        FILTER(?nuevonodo = ex:NuevoNodo)\n",
    "    }\n",
    "\"\"\"\n",
    "\n",
    "# Ejecutar la consulta SPARQL\n",
    "result = g.query(query)\n",
    "\n",
    "# Recorrer los resultados y eliminar los nodos adicionales\n",
    "for row in result:\n",
    "    g.remove((row[0], None, None))  # Eliminar todas las tripletas con el nodo como sujeto\n",
    "    g.remove((None, None, row[0]))  # Eliminar todas las tripletas con el nodo como objeto\n",
    "\n",
    "# Marcar el tiempo de finalización y calcular el tiempo transcurrido\n",
    "end_time = time.time()\n",
    "elapsed_time = end_time - start_time\n",
    "print(\"Tiempo de ejecución:\", elapsed_time, \"segundos\")\n"
   ]
  }
 ],
 "metadata": {
  "kernelspec": {
   "display_name": "practica",
   "language": "python",
   "name": "practica"
  },
  "language_info": {
   "codemirror_mode": {
    "name": "ipython",
    "version": 3
   },
   "file_extension": ".py",
   "mimetype": "text/x-python",
   "name": "python",
   "nbconvert_exporter": "python",
   "pygments_lexer": "ipython3",
   "version": "3.10.10"
  }
 },
 "nbformat": 4,
 "nbformat_minor": 5
}
