{
 "cells": [
  {
   "cell_type": "code",
   "execution_count": 1,
   "id": "a2208558",
   "metadata": {},
   "outputs": [],
   "source": [
    "import mariadb\n",
    "import sys"
   ]
  },
  {
   "cell_type": "code",
   "execution_count": 8,
   "id": "979f52c0",
   "metadata": {},
   "outputs": [],
   "source": [
    "#funciones auxiliares:\n",
    "def reemplazar_none(tup):\n",
    "    return tuple('No' if elem is None else elem for elem in tup)"
   ]
  },
  {
   "cell_type": "code",
   "execution_count": 2,
   "id": "58fdcbfd",
   "metadata": {},
   "outputs": [],
   "source": [
    "#Crea la conexión a la base con todos los tramites de todos los ministerios\n",
    "# origen\n",
    "try:\n",
    "    conn_destino = mariadb.connect(\n",
    "        user=\"root\",\n",
    "        password=\"carnesoya02\",\n",
    "        host=\"localhost\",\n",
    "        port=3306,\n",
    "        database=\"schema_name_2\"\n",
    "    )\n",
    "except mariadb.Error as e:\n",
    "    print(f\"Error connecting to MariaDB Platform: {e}\")\n",
    "    sys.exit(1)\n",
    "\n",
    "# Get Cursor\n",
    "cur = conn_destino.cursor()"
   ]
  },
  {
   "cell_type": "code",
   "execution_count": 51,
   "id": "41b3e83b",
   "metadata": {
    "scrolled": true
   },
   "outputs": [],
   "source": [
    "#Mediante una consulta obtenemos todos los nombres de las instituciones que usaremos para crear\n",
    "#las bases para las distintas instituciones.\n",
    "instituciones=[]\n",
    "cur.execute(\"select Institución, count(Institución) tramites from datos_modificados group by Institución order by tramites desc limit 30\")\n",
    "for j in cur:\n",
    "    instituciones.append(j[0])"
   ]
  },
  {
   "cell_type": "markdown",
   "id": "f45666fe",
   "metadata": {},
   "source": [
    "# Creación de las conexiones y tablas"
   ]
  },
  {
   "cell_type": "code",
   "execution_count": 10,
   "id": "3d411326",
   "metadata": {
    "scrolled": true
   },
   "outputs": [
    {
     "name": "stdout",
     "output_type": "stream",
     "text": [
      "Conexión 0 creada correctamente\n",
      "Tabla creada correctamente\n",
      "Datos insertados en la nueva tabla correctamente\n",
      "Conexión 1 creada correctamente\n",
      "Tabla creada correctamente\n",
      "Datos insertados en la nueva tabla correctamente\n",
      "Conexión 2 creada correctamente\n",
      "Tabla creada correctamente\n",
      "Datos insertados en la nueva tabla correctamente\n",
      "Conexión 3 creada correctamente\n",
      "Tabla creada correctamente\n",
      "Datos insertados en la nueva tabla correctamente\n",
      "Conexión 4 creada correctamente\n",
      "Tabla creada correctamente\n",
      "Datos insertados en la nueva tabla correctamente\n"
     ]
    }
   ],
   "source": [
    "# Diccionario para almacenar las conexiones y los cursores\n",
    "conexiones = {}\n",
    "cursores = {}\n",
    "prueba=[]\n",
    "# Consulta SQL para obtener los datos y los nombres de las columnas\n",
    "consulta_columnas = \"SHOW COLUMNS FROM datos_modificados;\"\n",
    "\n",
    "# Consulta SQL para crear la tabla\n",
    "consulta_crear_tabla = \"CREATE TABLE nueva_tabla ({})\"\n",
    "\n",
    "# Ejecuta la consulta para obtener los nombres de las columnas\n",
    "cur.execute(consulta_columnas)\n",
    "\n",
    "# Obtiene los nombres de las columnas\n",
    "nombres_columnas = [columna[0] for columna in cur.fetchall()]\n",
    "\n",
    "# Crea la lista de definiciones de columna para la consulta de creación de tabla\n",
    "definiciones_columnas = [f\"{nombre_columna} TEXT\" for nombre_columna in nombres_columnas]\n",
    "\n",
    "# Formatea la lista de definiciones de columna en una cadena separada por comas\n",
    "definiciones_columnas_str = \", \".join(definiciones_columnas)\n",
    "\n",
    "# Formatea la consulta de creación de tabla con las definiciones de columna\n",
    "consulta_crear_tabla = consulta_crear_tabla.format(definiciones_columnas_str)\n",
    "# Bucle para crear conexiones dinámicamente\n",
    "for j in range(0,5):\n",
    "    try:\n",
    "#-----------Crea una conexión y almacénala en el diccionario--------\n",
    "        conexiones[f'conexion_{j}'] = mariadb.connect(\n",
    "            user=\"root\",\n",
    "            password=\"carnesoya02\",\n",
    "            host=\"localhost\",  # Concatena el valor de j al nombre del host\n",
    "            port=3313+j,  # Puerto específico de la base de datos en el equipo local\n",
    "            database=\"schema_name\"\n",
    "        )\n",
    "        print(f\"Conexión {j} creada correctamente\")\n",
    "    except mariadb.Error as e:\n",
    "        print(f\"Error al conectar con la base de datos {j}: {e}\")\n",
    "    #--------------Creación de un cursor y guardarlo en un diccionario----------\n",
    "    cursores[f'conexion_{j}']=conexiones[f'conexion_{j}'].cursor()\n",
    "    #---------------------------------------------------------------------------\n",
    "    #se seleccionan los tramites que están en una cierta institución\n",
    "    cur.execute(\"select * from datos_modificados where Institución= %s\",(instituciones[j],))\n",
    "    datos = cur.fetchall()\n",
    "    #Dejamos los datos en el formato requerido para insertarlos\n",
    "    mi_tuple_modificado = tuple(map(reemplazar_none, datos))\n",
    "    datos2=list(mi_tuple_modificado)\n",
    "    # Ejecuta la consulta para crear la tabla\n",
    "    cursores[f'conexion_{j}'].execute(\"CREATE TABLE nueva_tabla (Ministerio TEXT,Institucion TEXT,Codigo_Tramite TEXT,Que_tipo_de_producto_entrega_la_institucion_con_este_tramite TEXT,Nombre_del_tramite TEXT,Descripcion_del_tramite TEXT,Nivel_de_digitalizacion TEXT,Mediante_que_herramienta_digitalizo_el_tramite TEXT,Canal_digital TEXT,Canal_presencial TEXT,Canal_telefonico TEXT,Canal_moduloautoatencion TEXT,Url_institucional TEXT,Tiene_Ficha_ChileAtiende TEXT,Url_ficha_ChileAtiende TEXT,El_tramite_se_puede_realizar_todo_el_ano TEXT,Considera_mecanismo_de_autenticacion TEXT,Considera_pago TEXT,Detalles_de_pago TEXT,iniciativa TEXT,Marco_legal TEXT,Tipo_de_usuario_al_cual_va_dirigido_este_tramite TEXT,Tipo_de_persona_juridica TEXT,El_tramite_esta_focalizado_en_alguno_de_los_siguientes_grupos TEXT,El_tramite_requiere_Registro_Social_de_Hogares_RSH TEXT,Quien_puede_realizar_este_tramite TEXT,Requiere_de_algun_certificado TEXT,Detalle_certificados TEXT,Requiere_de_un_documento_notarial TEXT,Detalle_documentos TEXT,Finaliza_con_la_emision_de_un_certificado TEXT,involucra_firmaFEA TEXT,Tipo_de_Firma_Electronica_Avanzada_FEA TEXT);\")    \n",
    "    print(\"Tabla creada correctamente\")\n",
    "\n",
    "    # Consulta SQL para insertar los datos en la nueva tabla\n",
    "    cursores[f'conexion_{j}'].executemany(\"INSERT INTO nueva_tabla (Ministerio, Institucion, Codigo_Tramite ,Que_tipo_de_producto_entrega_la_institucion_con_este_tramite ,Nombre_del_tramite ,Descripcion_del_tramite ,Nivel_de_digitalizacion ,Mediante_que_herramienta_digitalizo_el_tramite ,Canal_digital ,Canal_presencial ,Canal_telefonico ,Canal_moduloautoatencion ,Url_institucional ,Tiene_Ficha_ChileAtiende ,Url_ficha_ChileAtiende ,El_tramite_se_puede_realizar_todo_el_ano ,Considera_mecanismo_de_autenticacion ,Considera_pago ,Detalles_de_pago ,iniciativa ,Marco_legal ,Tipo_de_usuario_al_cual_va_dirigido_este_tramite ,Tipo_de_persona_juridica ,El_tramite_esta_focalizado_en_alguno_de_los_siguientes_grupos ,El_tramite_requiere_Registro_Social_de_Hogares_RSH ,Quien_puede_realizar_este_tramite ,Requiere_de_algun_certificado ,Detalle_certificados ,Requiere_de_un_documento_notarial ,Detalle_documentos ,Finaliza_con_la_emision_de_un_certificado ,involucra_firmaFEA ,Tipo_de_Firma_Electronica_Avanzada_FEA ) VALUES (?, ?, ?, ?, ?, ?, ?, ?, ?, ?, ?, ?, ?, ?, ?, ?, ?, ?, ?, ?, ?, ?, ?, ?, ?, ?, ?, ?, ?, ?, ?, ?, ?)\", datos2)\n",
    "    #consulta_insertar_datos = f\"INSERT INTO nueva_tabla ({', '.join(nombres_columnas)}) VALUES ({', '.join(['%s'] * len(nombres_columnas))})\"\n",
    "    #cursores[f'conexion_{j}'].executemany(consulta_insertar_datos, datos)\n",
    "    conexiones[f'conexion_{j}'].commit()\n",
    "    print(\"Datos insertados en la nueva tabla correctamente\")\n",
    "    #conexiones[f'conexion_{j}'].close()\n",
    "    #cur2.close()"
   ]
  },
  {
   "cell_type": "markdown",
   "id": "b26c41b3",
   "metadata": {},
   "source": [
    "# --------------------------------------------------------------------\n",
    "# --------------------------------------------------------------------"
   ]
  },
  {
   "cell_type": "markdown",
   "id": "bc6027a5",
   "metadata": {},
   "source": [
    "# Comparación de strings"
   ]
  },
  {
   "cell_type": "code",
   "execution_count": 59,
   "id": "bf10ebda",
   "metadata": {},
   "outputs": [],
   "source": [
    "def buscar_requisitos_de(tramite):\n",
    "    requisitos=[]\n",
    "    tramites_infos=[]\n",
    "    objetivo=[]\n",
    "    conexiones={}\n",
    "    cursores={}\n",
    "    for j in range(0, 5):\n",
    "        try:\n",
    "        #-----------Crea una conexión y almacénala en el diccionario--------\n",
    "            conexiones[f'conexion_{j}'] = mariadb.connect(\n",
    "                user=\"root\",\n",
    "                password=\"carnesoya02\",\n",
    "                host=\"localhost\",  # Concatena el valor de j al nombre del host\n",
    "                port=3313+j,  # Puerto específico de la base de datos en el equipo local\n",
    "                database=\"schema_name\"\n",
    "            )\n",
    "            #print(f\"Conexión {j} creada correctamente\")\n",
    "        except mariadb.Error as e:\n",
    "            print(f\"Error al conectar con la base de datos {j}: {e}\")\n",
    "        #--------------Creación de un cursor y guardarlo en un diccionario----------\n",
    "        cursores[f'conexion_{j}']=conexiones[f'conexion_{j}'].cursor()\n",
    "        cursores[f'conexion_{j}'].execute(\"select Nombre_del_tramite, Requiere_de_algun_certificado, Detalle_certificados from nueva_tabla\")\n",
    "        tramites_info=cursores[f'conexion_{j}'].fetchall()\n",
    "        for nombre in tramites_info:\n",
    "            if nombre[0]==tramite:\n",
    "                requisitos.append(nombre[2])\n",
    "        break\n",
    "    for j in range(0,5):\n",
    "        if f'conexion_{j}' not in conexiones:\n",
    "            try:\n",
    "            #-----------Crea una conexión y almacénala en el diccionario--------\n",
    "                conexiones[f'conexion_{j}'] = mariadb.connect(\n",
    "                    user=\"root\",\n",
    "                    password=\"carnesoya02\",\n",
    "                    host=\"localhost\",  # Concatena el valor de j al nombre del host\n",
    "                    port=3313+j,  # Puerto específico de la base de datos en el equipo local\n",
    "                    database=\"schema_name\"\n",
    "                )\n",
    "                #print(f\"Conexión {j} creada correctamente\")\n",
    "            except mariadb.Error as e:\n",
    "                print(f\"Error al conectar con la base de datos {j}: {e}\")\n",
    "            cursores[f'conexion_{j}']=conexiones[f'conexion_{j}'].cursor()\n",
    "        cursores[f'conexion_{j}'].execute(\"select Nombre_del_tramite, Institucion from nueva_tabla\")\n",
    "        tramites_info=cursores[f'conexion_{j}'].fetchall()\n",
    "        for tramit in tramites_info:\n",
    "            for requisito in requisitos:\n",
    "                if requisito==tramit[0]:\n",
    "                    objetivo.append((tramit))\n",
    "    return objetivo"
   ]
  },
  {
   "cell_type": "code",
   "execution_count": 60,
   "id": "d118e2a8",
   "metadata": {},
   "outputs": [
    {
     "name": "stdout",
     "output_type": "stream",
     "text": [
      "los requisitos del tramiteInscripción en Registro de Auxiliares del Comercio de Seguros personas naturales son\n",
      "Certificado de estudios para fines laborales (Ministerio de Educación) de la institución Subsecretaría de Transportes,\n",
      "Certificado de antecedentes (SRCeI) de la institución Servicio de Impuestos Internos,\n"
     ]
    }
   ],
   "source": [
    "c=buscar_requisitos_de('Inscripción en Registro de Auxiliares del Comercio de Seguros personas naturales')\n",
    "print('los requisitos del tramiteInscripción en Registro de Auxiliares del Comercio de Seguros personas naturales son')\n",
    "for j in c:\n",
    "    print(j[0]+' de la institución '+j[1]+',')\n"
   ]
  }
 ],
 "metadata": {
  "kernelspec": {
   "display_name": "practica",
   "language": "python",
   "name": "practica"
  },
  "language_info": {
   "codemirror_mode": {
    "name": "ipython",
    "version": 3
   },
   "file_extension": ".py",
   "mimetype": "text/x-python",
   "name": "python",
   "nbconvert_exporter": "python",
   "pygments_lexer": "ipython3",
   "version": "3.10.10"
  }
 },
 "nbformat": 4,
 "nbformat_minor": 5
}
